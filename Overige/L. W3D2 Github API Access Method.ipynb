{
 "cells": [
  {
   "cell_type": "code",
   "execution_count": 4,
   "metadata": {},
   "outputs": [
    {
     "data": {
      "text/html": [
       "<div>\n",
       "<style scoped>\n",
       "    .dataframe tbody tr th:only-of-type {\n",
       "        vertical-align: middle;\n",
       "    }\n",
       "\n",
       "    .dataframe tbody tr th {\n",
       "        vertical-align: top;\n",
       "    }\n",
       "\n",
       "    .dataframe thead th {\n",
       "        text-align: right;\n",
       "    }\n",
       "</style>\n",
       "<table border=\"1\" class=\"dataframe\">\n",
       "  <thead>\n",
       "    <tr style=\"text-align: right;\">\n",
       "      <th></th>\n",
       "      <th>id</th>\n",
       "      <th>node_id</th>\n",
       "      <th>name</th>\n",
       "      <th>full_name</th>\n",
       "      <th>private</th>\n",
       "      <th>owner</th>\n",
       "      <th>html_url</th>\n",
       "      <th>description</th>\n",
       "      <th>fork</th>\n",
       "      <th>url</th>\n",
       "      <th>...</th>\n",
       "      <th>mirror_url</th>\n",
       "      <th>archived</th>\n",
       "      <th>disabled</th>\n",
       "      <th>open_issues_count</th>\n",
       "      <th>license</th>\n",
       "      <th>forks</th>\n",
       "      <th>open_issues</th>\n",
       "      <th>watchers</th>\n",
       "      <th>default_branch</th>\n",
       "      <th>permissions</th>\n",
       "    </tr>\n",
       "  </thead>\n",
       "  <tbody>\n",
       "    <tr>\n",
       "      <td>0</td>\n",
       "      <td>195696481</td>\n",
       "      <td>MDEwOlJlcG9zaXRvcnkxOTU2OTY0ODE=</td>\n",
       "      <td>datasharing</td>\n",
       "      <td>PatrickColijn/datasharing</td>\n",
       "      <td>False</td>\n",
       "      <td>{'login': 'PatrickColijn', 'id': 52490077, 'no...</td>\n",
       "      <td>https://github.com/PatrickColijn/datasharing</td>\n",
       "      <td>The Leek group guide to data sharing</td>\n",
       "      <td>True</td>\n",
       "      <td>https://api.github.com/repos/PatrickColijn/dat...</td>\n",
       "      <td>...</td>\n",
       "      <td>None</td>\n",
       "      <td>False</td>\n",
       "      <td>False</td>\n",
       "      <td>0</td>\n",
       "      <td>None</td>\n",
       "      <td>0</td>\n",
       "      <td>0</td>\n",
       "      <td>0</td>\n",
       "      <td>master</td>\n",
       "      <td>{'admin': True, 'push': True, 'pull': True}</td>\n",
       "    </tr>\n",
       "  </tbody>\n",
       "</table>\n",
       "<p>1 rows × 74 columns</p>\n",
       "</div>"
      ],
      "text/plain": [
       "          id                           node_id         name  \\\n",
       "0  195696481  MDEwOlJlcG9zaXRvcnkxOTU2OTY0ODE=  datasharing   \n",
       "\n",
       "                   full_name  private  \\\n",
       "0  PatrickColijn/datasharing    False   \n",
       "\n",
       "                                               owner  \\\n",
       "0  {'login': 'PatrickColijn', 'id': 52490077, 'no...   \n",
       "\n",
       "                                       html_url  \\\n",
       "0  https://github.com/PatrickColijn/datasharing   \n",
       "\n",
       "                             description  fork  \\\n",
       "0  The Leek group guide to data sharing   True   \n",
       "\n",
       "                                                 url  ... mirror_url archived  \\\n",
       "0  https://api.github.com/repos/PatrickColijn/dat...  ...       None    False   \n",
       "\n",
       "  disabled open_issues_count license forks open_issues watchers  \\\n",
       "0    False                 0    None     0           0        0   \n",
       "\n",
       "  default_branch                                  permissions  \n",
       "0         master  {'admin': True, 'push': True, 'pull': True}  \n",
       "\n",
       "[1 rows x 74 columns]"
      ]
     },
     "execution_count": 4,
     "metadata": {},
     "output_type": "execute_result"
    }
   ],
   "source": [
    "import requests\n",
    "import pandas as pd\n",
    "\n",
    "username = 'PatrickColijn'\n",
    "token = '874f39382109f75ef026164da632a89f84c70162'\n",
    "\n",
    "response = requests.get('https://api.github.com/user/repos?page=4&per_page=1', auth=(username,token))\n",
    "data = pd.DataFrame(response.json())\n",
    "data"
   ]
  },
  {
   "cell_type": "code",
   "execution_count": null,
   "metadata": {},
   "outputs": [],
   "source": [
    "ironhack-datalabs/dataV2-labs"
   ]
  }
 ],
 "metadata": {
  "kernelspec": {
   "display_name": "Python 3",
   "language": "python",
   "name": "python3"
  },
  "language_info": {
   "codemirror_mode": {
    "name": "ipython",
    "version": 3
   },
   "file_extension": ".py",
   "mimetype": "text/x-python",
   "name": "python",
   "nbconvert_exporter": "python",
   "pygments_lexer": "ipython3",
   "version": "3.7.4"
  }
 },
 "nbformat": 4,
 "nbformat_minor": 4
}
