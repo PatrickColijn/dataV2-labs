{
 "cells": [
  {
   "cell_type": "markdown",
   "metadata": {},
   "source": [
    "# Algorithm of Reverse Cipher\n",
    "The algorithm of reverse cipher holds the following features:\n",
    "* Reverse Cipher uses a pattern of reversing the string of plain text to convert as cipher text.\n",
    "* The process of encryption and decryption is same.\n",
    "* To decrypt cipher text, the user simply needs to reverse the cipher text to get the plain text."
   ]
  },
  {
   "cell_type": "code",
   "execution_count": 92,
   "metadata": {},
   "outputs": [
    {
     "name": "stdout",
     "output_type": "stream",
     "text": [
      "Write your message to encrypt:hello\n",
      "encrypted message: olleh\n",
      "Do you want to decrypt this message? Yes / No:y\n",
      "encrypted message: Hello\n"
     ]
    },
    {
     "data": {
      "text/plain": [
       "'Hello'"
      ]
     },
     "execution_count": 92,
     "metadata": {},
     "output_type": "execute_result"
    }
   ],
   "source": [
    "def encrypt_reverse():\n",
    "    message = input(\"Write your message to encrypt:\")\n",
    "    encrypted =''\n",
    "\n",
    "    i = len(message) - 1\n",
    "\n",
    "    while  i >=  0:   \n",
    "        encrypted = encrypted + message[i]      \n",
    "        i  = i -  1     \n",
    "\n",
    "    print(\"encrypted message:\", encrypted)\n",
    "    return encrypted\n",
    "\n",
    "def decrypt_reverse(encrypt):\n",
    "    decrypt_question = input(\"Do you want to decrypt this message? Yes / No:\")\n",
    "    decrypted =''\n",
    "    \n",
    "    if decrypt_question.lower().startswith(\"y\"):\n",
    "        i = len(encrypted) - 1\n",
    "\n",
    "        while  i >=  0:   \n",
    "            decrypted = decrypted + encrypted[i]      \n",
    "            i  = i -  1     \n",
    "\n",
    "        print(\"Decrypted message:\", decrypted)\n",
    "        return decrypted\n",
    "    \n",
    "    else:\n",
    "        print(\"Your message is still encrypted!\")\n",
    "        \n",
    "        \n",
    "encrypt_reverse()\n",
    "decrypt_reverse(encrypted)"
   ]
  },
  {
   "cell_type": "markdown",
   "metadata": {},
   "source": [
    "# Algorithm of Caesar Cipher\n",
    "The algorithm of Caesar cipher holds the following features:\n",
    "* Caesar Cipher Technique is the simple and easy method of encryption technique.\n",
    "* It is simple type of substitution cipher.\n",
    "* Each letter of plain text is replaced by a letter with some fixed number of positions down with alphabet."
   ]
  },
  {
   "cell_type": "code",
   "execution_count": 62,
   "metadata": {},
   "outputs": [
    {
     "name": "stdout",
     "output_type": "stream",
     "text": [
      "Hi there, do you want encrypt or decrypt your message?:encrypt\n",
      "Start encyrption...\n",
      "Please write your message for encryption:hello\n",
      "Choose the key (1 - 26): 4\n",
      "Encryption successfull!\n",
      "\n",
      "This is your encrypted message:  lipps\n"
     ]
    },
    {
     "data": {
      "text/plain": [
       "'lipps'"
      ]
     },
     "execution_count": 62,
     "metadata": {},
     "output_type": "execute_result"
    }
   ],
   "source": [
    "# Function to choose either for encrytpion or decryption\n",
    "def choose_enc_dec():\n",
    "    input1 = input(\"Hi there, do you want encrypt or decrypt your message?:\")\n",
    "    \n",
    "    if input1.lower().startswith(\"e\"):\n",
    "        print(\"Start encyrption...\")\n",
    "        return encrypt(message, s)\n",
    "        \n",
    "    elif input1.lower().startswith(\"d\"):\n",
    "        print(\"Start decryption...\")\n",
    "        return decrypt(message, s)\n",
    "    \n",
    "    elif input1.lower().startwith(\"e\"):\n",
    "        print(\"Exit porgram!\")\n",
    "        \n",
    "    else:\n",
    "        print(\"Wrong input, please try again...\")\n",
    "        return choose_enc_dec()\n",
    "\n",
    "# Function to encrypt a message through Caesar Cipher\n",
    "def encrypt(message, s):\n",
    "    message = input(\"Please write your message for encryption:\")\n",
    "    s = int(input(\"Choose the key (1 - 26): \"))\n",
    "    encrypted_message = \"\"\n",
    "    \n",
    "    # Transform plain text into encrypted message\n",
    "    for i in range(len(message)):\n",
    "        char = message[i]\n",
    "        \n",
    "        if char == ' ':\n",
    "            encrypted_message = encrypted_message + char\n",
    "        \n",
    "        # Encrypt uppercase characters in plain text\n",
    "        elif(char.isupper()):\n",
    "            encrypted_message += chr((ord(char) + s - 65) % 26 + 65)\n",
    "        \n",
    "        # Encrypt lowercase characters in plain text\n",
    "        elif(char.islower()):\n",
    "            encrypted_message += chr((ord(char) + s - 97) % 26 + 97)\n",
    "        \n",
    "    print(\"Encryption successfull!\\n\\nThis is your encrypted message: \", encrypted_message)\n",
    "    return encrypted_message\n",
    "\n",
    "# Function to decrypt a message encrypted by Caesar Cipher\n",
    "def decrypt(encrypted_message, s): # Function to decrypt message from Caesar Cipher encryption with a decoder\n",
    "    \n",
    "    ## STILL TO ADD: - DO YOU WANT TO DECODE PREVIOUS MESSAGE? \n",
    "    # IF YES - CHECK IF THERE IS PREVIOUS MESSAGE? IF N - PRINT (\"THERE IS NO PREVIOUS MESSAGE, PLEASE TRY AGAIN!\")\n",
    "    # IF NO - INPUT(\"WHAT WOULD YOU LIKE TO DECRYPT?\")\n",
    "    \n",
    "    decrypted_message = input(\"Please write your message for decryption:\")\n",
    "    s = int(input(\"Choose the key (1 - 26): \"))\n",
    "    \n",
    "    for i in range(len(encrypted_message)):\n",
    "        char = encrypted_message[i]\n",
    "        \n",
    "        if char == ' ':\n",
    "            decrypted_message = decrypted_message + char\n",
    "            \n",
    "        # Decrypt uppercase characters in plain text\n",
    "        elif(char.isupper()):\n",
    "            decrypted_message += chr((ord(char) - s - 65) % 26 + 65)\n",
    "        \n",
    "        # Decrypt lowercase characters in plain text\n",
    "        elif(char.islower()):\n",
    "            decrypted_message += chr((ord(char) - s - 97) % 26 + 97)\n",
    "        \n",
    "    print(\"Encryption successfull!/n This is your encrypted message: \", encrypted_message)\n",
    "    return decrypted_message\n",
    "\n",
    "choose_enc_dec()"
   ]
  }
 ],
 "metadata": {
  "kernelspec": {
   "display_name": "Python 3",
   "language": "python",
   "name": "python3"
  },
  "language_info": {
   "codemirror_mode": {
    "name": "ipython",
    "version": 3
   },
   "file_extension": ".py",
   "mimetype": "text/x-python",
   "name": "python",
   "nbconvert_exporter": "python",
   "pygments_lexer": "ipython3",
   "version": "3.7.4"
  }
 },
 "nbformat": 4,
 "nbformat_minor": 2
}
