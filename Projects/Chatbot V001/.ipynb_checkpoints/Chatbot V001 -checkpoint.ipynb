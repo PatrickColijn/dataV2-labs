{
 "cells": [
  {
   "cell_type": "markdown",
   "metadata": {},
   "source": [
    "# Building a Conversational Chatbot for Slack using Rasa and Python -Part 1"
   ]
  },
  {
   "cell_type": "markdown",
   "metadata": {},
   "source": [
    "## Starting Jupyter Notebook with necessary imports"
   ]
  },
  {
   "cell_type": "code",
   "execution_count": 9,
   "metadata": {},
   "outputs": [],
   "source": [
    "%matplotlib inline\n",
    "\n",
    "import logging, io, json, warnings\n",
    "logging.basicConfig(level=\"INFO\")\n",
    "warnings.filterwarnings('ignore')"
   ]
  },
  {
   "cell_type": "markdown",
   "metadata": {},
   "source": [
    "# Installations\n",
    "* Rasa NLU\n",
    "* Rasa Core\n",
    "* SpaCy Language Mode"
   ]
  },
  {
   "cell_type": "code",
   "execution_count": 7,
   "metadata": {},
   "outputs": [
    {
     "name": "stdout",
     "output_type": "stream",
     "text": [
      "Requirement already up-to-date: rasa_core in /Users/macbook/opt/anaconda3/lib/python3.7/site-packages (0.14.5)\n",
      "Requirement already up-to-date: rasa_nlu[spacy] in /Users/macbook/opt/anaconda3/lib/python3.7/site-packages (0.15.1)\n",
      "Requirement already satisfied, skipping upgrade: scikit-learn~=0.20.0 in /Users/macbook/opt/anaconda3/lib/python3.7/site-packages (from rasa_core) (0.20.4)\n",
      "Requirement already satisfied, skipping upgrade: apscheduler~=3.0 in /Users/macbook/opt/anaconda3/lib/python3.7/site-packages (from rasa_core) (3.6.3)\n",
      "Requirement already satisfied, skipping upgrade: slackclient~=1.0 in /Users/macbook/opt/anaconda3/lib/python3.7/site-packages (from rasa_core) (1.3.2)\n",
      "Requirement already satisfied, skipping upgrade: jsonpickle~=1.0 in /Users/macbook/opt/anaconda3/lib/python3.7/site-packages (from rasa_core) (1.3)\n",
      "Requirement already satisfied, skipping upgrade: numpy~=1.16 in /Users/macbook/opt/anaconda3/lib/python3.7/site-packages (from rasa_core) (1.17.2)\n",
      "Requirement already satisfied, skipping upgrade: twilio~=6.0 in /Users/macbook/opt/anaconda3/lib/python3.7/site-packages (from rasa_core) (6.26.3)\n",
      "Requirement already satisfied, skipping upgrade: flask-cors~=3.0 in /Users/macbook/opt/anaconda3/lib/python3.7/site-packages (from rasa_core) (3.0.8)\n",
      "Requirement already satisfied, skipping upgrade: typing~=3.0 in /Users/macbook/opt/anaconda3/lib/python3.7/site-packages (from rasa_core) (3.7.4.1)\n",
      "Requirement already satisfied, skipping upgrade: python-telegram-bot~=11.0 in /Users/macbook/opt/anaconda3/lib/python3.7/site-packages (from rasa_core) (11.1.0)\n",
      "Requirement already satisfied, skipping upgrade: python-socketio~=3.0 in /Users/macbook/opt/anaconda3/lib/python3.7/site-packages (from rasa_core) (3.1.2)\n",
      "Requirement already satisfied, skipping upgrade: webexteamssdk~=1.0 in /Users/macbook/opt/anaconda3/lib/python3.7/site-packages (from rasa_core) (1.1.1)\n",
      "Requirement already satisfied, skipping upgrade: pymongo~=3.7 in /Users/macbook/opt/anaconda3/lib/python3.7/site-packages (from rasa_core) (3.8.0)\n",
      "Requirement already satisfied, skipping upgrade: pytz~=2018.9 in /Users/macbook/opt/anaconda3/lib/python3.7/site-packages (from rasa_core) (2018.9)\n",
      "Requirement already satisfied, skipping upgrade: tensorflow~=1.13.0 in /Users/macbook/opt/anaconda3/lib/python3.7/site-packages (from rasa_core) (1.13.2)\n",
      "Requirement already satisfied, skipping upgrade: ruamel.yaml~=0.15.0 in /Users/macbook/opt/anaconda3/lib/python3.7/site-packages (from rasa_core) (0.15.100)\n",
      "Requirement already satisfied, skipping upgrade: packaging~=18.0 in /Users/macbook/opt/anaconda3/lib/python3.7/site-packages (from rasa_core) (18.0)\n",
      "Requirement already satisfied, skipping upgrade: fakeredis~=0.10.0 in /Users/macbook/opt/anaconda3/lib/python3.7/site-packages (from rasa_core) (0.10.3)\n",
      "Requirement already satisfied, skipping upgrade: colorhash~=1.0 in /Users/macbook/opt/anaconda3/lib/python3.7/site-packages (from rasa_core) (1.0.2)\n",
      "Requirement already satisfied, skipping upgrade: pykwalify~=1.7.0 in /Users/macbook/opt/anaconda3/lib/python3.7/site-packages (from rasa_core) (1.7.0)\n",
      "Requirement already satisfied, skipping upgrade: scipy~=1.2 in /Users/macbook/opt/anaconda3/lib/python3.7/site-packages (from rasa_core) (1.4.1)\n",
      "Requirement already satisfied, skipping upgrade: terminaltables~=3.1 in /Users/macbook/opt/anaconda3/lib/python3.7/site-packages (from rasa_core) (3.1.0)\n",
      "Requirement already satisfied, skipping upgrade: rasa-core-sdk~=0.14 in /Users/macbook/opt/anaconda3/lib/python3.7/site-packages (from rasa_core) (0.14.0)\n",
      "Requirement already satisfied, skipping upgrade: questionary>=1.0.1 in /Users/macbook/opt/anaconda3/lib/python3.7/site-packages (from rasa_core) (1.5.1)\n",
      "Requirement already satisfied, skipping upgrade: flask-jwt-simple~=0.0.3 in /Users/macbook/opt/anaconda3/lib/python3.7/site-packages (from rasa_core) (0.0.3)\n",
      "Requirement already satisfied, skipping upgrade: jsonschema~=2.6 in /Users/macbook/opt/anaconda3/lib/python3.7/site-packages (from rasa_core) (2.6.0)\n",
      "Requirement already satisfied, skipping upgrade: flask~=1.0 in /Users/macbook/opt/anaconda3/lib/python3.7/site-packages (from rasa_core) (1.1.1)\n",
      "Requirement already satisfied, skipping upgrade: pydot~=1.4 in /Users/macbook/opt/anaconda3/lib/python3.7/site-packages (from rasa_core) (1.4.1)\n",
      "Requirement already satisfied, skipping upgrade: coloredlogs~=10.0 in /Users/macbook/opt/anaconda3/lib/python3.7/site-packages (from rasa_core) (10.0)\n",
      "Requirement already satisfied, skipping upgrade: colorclass~=2.2 in /Users/macbook/opt/anaconda3/lib/python3.7/site-packages (from rasa_core) (2.2.0)\n",
      "Requirement already satisfied, skipping upgrade: fbmessenger~=5.0 in /Users/macbook/opt/anaconda3/lib/python3.7/site-packages (from rasa_core) (5.6.0)\n",
      "Requirement already satisfied, skipping upgrade: requests~=2.20 in /Users/macbook/opt/anaconda3/lib/python3.7/site-packages (from rasa_core) (2.23.0)\n",
      "Requirement already satisfied, skipping upgrade: pika~=0.12.0 in /Users/macbook/opt/anaconda3/lib/python3.7/site-packages (from rasa_core) (0.12.0)\n",
      "Requirement already satisfied, skipping upgrade: gevent~=1.3 in /Users/macbook/opt/anaconda3/lib/python3.7/site-packages (from rasa_core) (1.4.0)\n",
      "Requirement already satisfied, skipping upgrade: rocketchat-API~=0.6.0 in /Users/macbook/opt/anaconda3/lib/python3.7/site-packages (from rasa_core) (0.6.36)\n",
      "Requirement already satisfied, skipping upgrade: mattermostwrapper~=2.0 in /Users/macbook/opt/anaconda3/lib/python3.7/site-packages (from rasa_core) (2.2)\n",
      "Requirement already satisfied, skipping upgrade: tqdm~=4.0 in /Users/macbook/opt/anaconda3/lib/python3.7/site-packages (from rasa_core) (4.31.1)\n",
      "Requirement already satisfied, skipping upgrade: redis~=2.0 in /Users/macbook/opt/anaconda3/lib/python3.7/site-packages (from rasa_core) (2.10.6)\n",
      "Requirement already satisfied, skipping upgrade: python-dateutil~=2.7 in /Users/macbook/opt/anaconda3/lib/python3.7/site-packages (from rasa_core) (2.8.0)\n",
      "Requirement already satisfied, skipping upgrade: networkx~=2.2 in /Users/macbook/opt/anaconda3/lib/python3.7/site-packages (from rasa_core) (2.4)\n",
      "Requirement already satisfied, skipping upgrade: cloudpickle~=0.6.1 in /Users/macbook/opt/anaconda3/lib/python3.7/site-packages (from rasa_nlu[spacy]) (0.6.1)\n",
      "Requirement already satisfied, skipping upgrade: simplejson~=3.13 in /Users/macbook/opt/anaconda3/lib/python3.7/site-packages (from rasa_nlu[spacy]) (3.17.0)\n",
      "Requirement already satisfied, skipping upgrade: klein~=17.10 in /Users/macbook/opt/anaconda3/lib/python3.7/site-packages (from rasa_nlu[spacy]) (17.10.0)\n",
      "Requirement already satisfied, skipping upgrade: matplotlib~=2.2 in /Users/macbook/opt/anaconda3/lib/python3.7/site-packages (from rasa_nlu[spacy]) (2.2.5)\n",
      "Requirement already satisfied, skipping upgrade: future~=0.17.1 in /Users/macbook/opt/anaconda3/lib/python3.7/site-packages (from rasa_nlu[spacy]) (0.17.1)\n",
      "Requirement already satisfied, skipping upgrade: boto3~=1.9 in /Users/macbook/opt/anaconda3/lib/python3.7/site-packages (from rasa_nlu[spacy]) (1.12.12)\n",
      "Requirement already satisfied, skipping upgrade: spacy<=2.0.18,>2.0; extra == \"spacy\" in /Users/macbook/opt/anaconda3/lib/python3.7/site-packages (from rasa_nlu[spacy]) (2.0.18)\n",
      "Requirement already satisfied, skipping upgrade: sklearn-crfsuite~=0.3.6; extra == \"spacy\" in /Users/macbook/opt/anaconda3/lib/python3.7/site-packages (from rasa_nlu[spacy]) (0.3.6)\n",
      "Requirement already satisfied, skipping upgrade: tzlocal>=1.2 in /Users/macbook/opt/anaconda3/lib/python3.7/site-packages (from apscheduler~=3.0->rasa_core) (2.0.0)\n",
      "Requirement already satisfied, skipping upgrade: setuptools>=0.7 in /Users/macbook/opt/anaconda3/lib/python3.7/site-packages (from apscheduler~=3.0->rasa_core) (41.4.0)\n",
      "Requirement already satisfied, skipping upgrade: six>=1.4.0 in /Users/macbook/opt/anaconda3/lib/python3.7/site-packages (from apscheduler~=3.0->rasa_core) (1.12.0)\n",
      "Requirement already satisfied, skipping upgrade: websocket-client<0.55.0,>=0.35 in /Users/macbook/opt/anaconda3/lib/python3.7/site-packages (from slackclient~=1.0->rasa_core) (0.54.0)\n",
      "Requirement already satisfied, skipping upgrade: PyJWT>=1.4.2 in /Users/macbook/opt/anaconda3/lib/python3.7/site-packages (from twilio~=6.0->rasa_core) (1.7.1)\n",
      "Requirement already satisfied, skipping upgrade: pysocks; python_version >= \"3.0\" in /Users/macbook/opt/anaconda3/lib/python3.7/site-packages (from twilio~=6.0->rasa_core) (1.7.1)\n",
      "Requirement already satisfied, skipping upgrade: certifi in /Users/macbook/opt/anaconda3/lib/python3.7/site-packages (from python-telegram-bot~=11.0->rasa_core) (2019.9.11)\n",
      "Requirement already satisfied, skipping upgrade: cryptography in /Users/macbook/opt/anaconda3/lib/python3.7/site-packages (from python-telegram-bot~=11.0->rasa_core) (2.7)\n"
     ]
    },
    {
     "name": "stdout",
     "output_type": "stream",
     "text": [
      "Requirement already satisfied, skipping upgrade: python-engineio>=3.2.0 in /Users/macbook/opt/anaconda3/lib/python3.7/site-packages (from python-socketio~=3.0->rasa_core) (3.11.2)\n",
      "Requirement already satisfied, skipping upgrade: requests-toolbelt in /Users/macbook/opt/anaconda3/lib/python3.7/site-packages (from webexteamssdk~=1.0->rasa_core) (0.9.1)\n",
      "Requirement already satisfied, skipping upgrade: grpcio>=1.8.6 in /Users/macbook/opt/anaconda3/lib/python3.7/site-packages (from tensorflow~=1.13.0->rasa_core) (1.27.2)\n",
      "Requirement already satisfied, skipping upgrade: keras-applications>=1.0.6 in /Users/macbook/opt/anaconda3/lib/python3.7/site-packages (from tensorflow~=1.13.0->rasa_core) (1.0.8)\n",
      "Requirement already satisfied, skipping upgrade: tensorflow-estimator<1.14.0rc0,>=1.13.0 in /Users/macbook/opt/anaconda3/lib/python3.7/site-packages (from tensorflow~=1.13.0->rasa_core) (1.13.0)\n",
      "Requirement already satisfied, skipping upgrade: protobuf>=3.6.1 in /Users/macbook/opt/anaconda3/lib/python3.7/site-packages (from tensorflow~=1.13.0->rasa_core) (3.11.3)\n",
      "Requirement already satisfied, skipping upgrade: tensorboard<1.14.0,>=1.13.0 in /Users/macbook/opt/anaconda3/lib/python3.7/site-packages (from tensorflow~=1.13.0->rasa_core) (1.13.1)\n",
      "Requirement already satisfied, skipping upgrade: wheel>=0.26 in /Users/macbook/opt/anaconda3/lib/python3.7/site-packages (from tensorflow~=1.13.0->rasa_core) (0.33.6)\n",
      "Requirement already satisfied, skipping upgrade: absl-py>=0.1.6 in /Users/macbook/opt/anaconda3/lib/python3.7/site-packages (from tensorflow~=1.13.0->rasa_core) (0.9.0)\n",
      "Requirement already satisfied, skipping upgrade: astor>=0.6.0 in /Users/macbook/opt/anaconda3/lib/python3.7/site-packages (from tensorflow~=1.13.0->rasa_core) (0.8.1)\n",
      "Requirement already satisfied, skipping upgrade: gast>=0.2.0 in /Users/macbook/opt/anaconda3/lib/python3.7/site-packages (from tensorflow~=1.13.0->rasa_core) (0.2.2)\n",
      "Requirement already satisfied, skipping upgrade: termcolor>=1.1.0 in /Users/macbook/opt/anaconda3/lib/python3.7/site-packages (from tensorflow~=1.13.0->rasa_core) (1.1.0)\n",
      "Requirement already satisfied, skipping upgrade: keras-preprocessing>=1.0.5 in /Users/macbook/opt/anaconda3/lib/python3.7/site-packages (from tensorflow~=1.13.0->rasa_core) (1.1.0)\n",
      "Requirement already satisfied, skipping upgrade: pyparsing>=2.0.2 in /Users/macbook/opt/anaconda3/lib/python3.7/site-packages (from packaging~=18.0->rasa_core) (2.4.2)\n",
      "Requirement already satisfied, skipping upgrade: PyYAML>=3.11 in /Users/macbook/opt/anaconda3/lib/python3.7/site-packages (from pykwalify~=1.7.0->rasa_core) (5.1.2)\n",
      "Requirement already satisfied, skipping upgrade: docopt>=0.6.2 in /Users/macbook/opt/anaconda3/lib/python3.7/site-packages (from pykwalify~=1.7.0->rasa_core) (0.6.2)\n",
      "Requirement already satisfied, skipping upgrade: ConfigArgParse~=0.13.0 in /Users/macbook/opt/anaconda3/lib/python3.7/site-packages (from rasa-core-sdk~=0.14->rasa_core) (0.13.0)\n",
      "Requirement already satisfied, skipping upgrade: prompt-toolkit<4.0,>=2.0 in /Users/macbook/opt/anaconda3/lib/python3.7/site-packages (from questionary>=1.0.1->rasa_core) (2.0.10)\n",
      "Requirement already satisfied, skipping upgrade: click>=5.1 in /Users/macbook/opt/anaconda3/lib/python3.7/site-packages (from flask~=1.0->rasa_core) (7.0)\n",
      "Requirement already satisfied, skipping upgrade: Werkzeug>=0.15 in /Users/macbook/opt/anaconda3/lib/python3.7/site-packages (from flask~=1.0->rasa_core) (0.16.0)\n",
      "Requirement already satisfied, skipping upgrade: Jinja2>=2.10.1 in /Users/macbook/opt/anaconda3/lib/python3.7/site-packages (from flask~=1.0->rasa_core) (2.10.3)\n",
      "Requirement already satisfied, skipping upgrade: itsdangerous>=0.24 in /Users/macbook/opt/anaconda3/lib/python3.7/site-packages (from flask~=1.0->rasa_core) (1.1.0)\n",
      "Requirement already satisfied, skipping upgrade: humanfriendly>=4.7 in /Users/macbook/opt/anaconda3/lib/python3.7/site-packages (from coloredlogs~=10.0->rasa_core) (8.0)\n",
      "Requirement already satisfied, skipping upgrade: chardet<4,>=3.0.2 in /Users/macbook/opt/anaconda3/lib/python3.7/site-packages (from requests~=2.20->rasa_core) (3.0.4)\n",
      "Requirement already satisfied, skipping upgrade: urllib3!=1.25.0,!=1.25.1,<1.26,>=1.21.1 in /Users/macbook/opt/anaconda3/lib/python3.7/site-packages (from requests~=2.20->rasa_core) (1.24.2)\n",
      "Requirement already satisfied, skipping upgrade: idna<3,>=2.5 in /Users/macbook/opt/anaconda3/lib/python3.7/site-packages (from requests~=2.20->rasa_core) (2.8)\n",
      "Requirement already satisfied, skipping upgrade: greenlet>=0.4.14 in /Users/macbook/opt/anaconda3/lib/python3.7/site-packages (from gevent~=1.3->rasa_core) (0.4.15)\n",
      "Requirement already satisfied, skipping upgrade: decorator>=4.3.0 in /Users/macbook/opt/anaconda3/lib/python3.7/site-packages (from networkx~=2.2->rasa_core) (4.4.0)\n",
      "Requirement already satisfied, skipping upgrade: Twisted>=15.5 in /Users/macbook/opt/anaconda3/lib/python3.7/site-packages (from klein~=17.10->rasa_nlu[spacy]) (19.10.0)\n",
      "Requirement already satisfied, skipping upgrade: incremental in /Users/macbook/opt/anaconda3/lib/python3.7/site-packages (from klein~=17.10->rasa_nlu[spacy]) (17.5.0)\n",
      "Requirement already satisfied, skipping upgrade: kiwisolver>=1.0.1 in /Users/macbook/opt/anaconda3/lib/python3.7/site-packages (from matplotlib~=2.2->rasa_nlu[spacy]) (1.1.0)\n",
      "Requirement already satisfied, skipping upgrade: cycler>=0.10 in /Users/macbook/opt/anaconda3/lib/python3.7/site-packages (from matplotlib~=2.2->rasa_nlu[spacy]) (0.10.0)\n",
      "Requirement already satisfied, skipping upgrade: botocore<1.16.0,>=1.15.12 in /Users/macbook/opt/anaconda3/lib/python3.7/site-packages (from boto3~=1.9->rasa_nlu[spacy]) (1.15.12)\n",
      "Requirement already satisfied, skipping upgrade: jmespath<1.0.0,>=0.7.1 in /Users/macbook/opt/anaconda3/lib/python3.7/site-packages (from boto3~=1.9->rasa_nlu[spacy]) (0.9.5)\n",
      "Requirement already satisfied, skipping upgrade: s3transfer<0.4.0,>=0.3.0 in /Users/macbook/opt/anaconda3/lib/python3.7/site-packages (from boto3~=1.9->rasa_nlu[spacy]) (0.3.3)\n",
      "Requirement already satisfied, skipping upgrade: plac<1.0.0,>=0.9.6 in /Users/macbook/opt/anaconda3/lib/python3.7/site-packages (from spacy<=2.0.18,>2.0; extra == \"spacy\"->rasa_nlu[spacy]) (0.9.6)\n",
      "Requirement already satisfied, skipping upgrade: ujson>=1.35 in /Users/macbook/opt/anaconda3/lib/python3.7/site-packages (from spacy<=2.0.18,>2.0; extra == \"spacy\"->rasa_nlu[spacy]) (1.35)\n",
      "Requirement already satisfied, skipping upgrade: preshed<2.1.0,>=2.0.1 in /Users/macbook/opt/anaconda3/lib/python3.7/site-packages (from spacy<=2.0.18,>2.0; extra == \"spacy\"->rasa_nlu[spacy]) (2.0.1)\n",
      "Requirement already satisfied, skipping upgrade: cymem<2.1.0,>=2.0.2 in /Users/macbook/opt/anaconda3/lib/python3.7/site-packages (from spacy<=2.0.18,>2.0; extra == \"spacy\"->rasa_nlu[spacy]) (2.0.3)\n",
      "Requirement already satisfied, skipping upgrade: murmurhash<1.1.0,>=0.28.0 in /Users/macbook/opt/anaconda3/lib/python3.7/site-packages (from spacy<=2.0.18,>2.0; extra == \"spacy\"->rasa_nlu[spacy]) (1.0.2)\n",
      "Requirement already satisfied, skipping upgrade: thinc<6.13.0,>=6.12.1 in /Users/macbook/opt/anaconda3/lib/python3.7/site-packages (from spacy<=2.0.18,>2.0; extra == \"spacy\"->rasa_nlu[spacy]) (6.12.1)\n",
      "Requirement already satisfied, skipping upgrade: dill<0.3,>=0.2 in /Users/macbook/opt/anaconda3/lib/python3.7/site-packages (from spacy<=2.0.18,>2.0; extra == \"spacy\"->rasa_nlu[spacy]) (0.2.9)\n",
      "Requirement already satisfied, skipping upgrade: regex==2018.01.10 in /Users/macbook/opt/anaconda3/lib/python3.7/site-packages (from spacy<=2.0.18,>2.0; extra == \"spacy\"->rasa_nlu[spacy]) (2018.1.10)\n",
      "Requirement already satisfied, skipping upgrade: python-crfsuite>=0.8.3 in /Users/macbook/opt/anaconda3/lib/python3.7/site-packages (from sklearn-crfsuite~=0.3.6; extra == \"spacy\"->rasa_nlu[spacy]) (0.9.6)\n",
      "Requirement already satisfied, skipping upgrade: tabulate in /Users/macbook/opt/anaconda3/lib/python3.7/site-packages (from sklearn-crfsuite~=0.3.6; extra == \"spacy\"->rasa_nlu[spacy]) (0.8.6)\n",
      "Requirement already satisfied, skipping upgrade: asn1crypto>=0.21.0 in /Users/macbook/opt/anaconda3/lib/python3.7/site-packages (from cryptography->python-telegram-bot~=11.0->rasa_core) (1.0.1)\n",
      "Requirement already satisfied, skipping upgrade: cffi!=1.11.3,>=1.8 in /Users/macbook/opt/anaconda3/lib/python3.7/site-packages (from cryptography->python-telegram-bot~=11.0->rasa_core) (1.12.3)\n"
     ]
    },
    {
     "name": "stdout",
     "output_type": "stream",
     "text": [
      "Requirement already satisfied, skipping upgrade: h5py in /Users/macbook/opt/anaconda3/lib/python3.7/site-packages (from keras-applications>=1.0.6->tensorflow~=1.13.0->rasa_core) (2.9.0)\n",
      "Requirement already satisfied, skipping upgrade: mock>=2.0.0 in /Users/macbook/opt/anaconda3/lib/python3.7/site-packages (from tensorflow-estimator<1.14.0rc0,>=1.13.0->tensorflow~=1.13.0->rasa_core) (3.0.5)\n",
      "Requirement already satisfied, skipping upgrade: markdown>=2.6.8 in /Users/macbook/opt/anaconda3/lib/python3.7/site-packages (from tensorboard<1.14.0,>=1.13.0->tensorflow~=1.13.0->rasa_core) (3.2.1)\n",
      "Requirement already satisfied, skipping upgrade: wcwidth in /Users/macbook/opt/anaconda3/lib/python3.7/site-packages (from prompt-toolkit<4.0,>=2.0->questionary>=1.0.1->rasa_core) (0.1.7)\n",
      "Requirement already satisfied, skipping upgrade: MarkupSafe>=0.23 in /Users/macbook/opt/anaconda3/lib/python3.7/site-packages (from Jinja2>=2.10.1->flask~=1.0->rasa_core) (1.1.1)\n",
      "Requirement already satisfied, skipping upgrade: zope.interface>=4.4.2 in /Users/macbook/opt/anaconda3/lib/python3.7/site-packages (from Twisted>=15.5->klein~=17.10->rasa_nlu[spacy]) (4.7.1)\n",
      "Requirement already satisfied, skipping upgrade: attrs>=17.4.0 in /Users/macbook/opt/anaconda3/lib/python3.7/site-packages (from Twisted>=15.5->klein~=17.10->rasa_nlu[spacy]) (19.3.0)\n",
      "Requirement already satisfied, skipping upgrade: constantly>=15.1 in /Users/macbook/opt/anaconda3/lib/python3.7/site-packages (from Twisted>=15.5->klein~=17.10->rasa_nlu[spacy]) (15.1.0)\n",
      "Requirement already satisfied, skipping upgrade: hyperlink>=17.1.1 in /Users/macbook/opt/anaconda3/lib/python3.7/site-packages (from Twisted>=15.5->klein~=17.10->rasa_nlu[spacy]) (19.0.0)\n",
      "Requirement already satisfied, skipping upgrade: PyHamcrest>=1.9.0 in /Users/macbook/opt/anaconda3/lib/python3.7/site-packages (from Twisted>=15.5->klein~=17.10->rasa_nlu[spacy]) (2.0.2)\n",
      "Requirement already satisfied, skipping upgrade: Automat>=0.3.0 in /Users/macbook/opt/anaconda3/lib/python3.7/site-packages (from Twisted>=15.5->klein~=17.10->rasa_nlu[spacy]) (20.2.0)\n",
      "Requirement already satisfied, skipping upgrade: docutils<0.16,>=0.10 in /Users/macbook/opt/anaconda3/lib/python3.7/site-packages (from botocore<1.16.0,>=1.15.12->boto3~=1.9->rasa_nlu[spacy]) (0.15.2)\n",
      "Requirement already satisfied, skipping upgrade: msgpack<0.6.0,>=0.5.6 in /Users/macbook/opt/anaconda3/lib/python3.7/site-packages (from thinc<6.13.0,>=6.12.1->spacy<=2.0.18,>2.0; extra == \"spacy\"->rasa_nlu[spacy]) (0.5.6)\n",
      "Requirement already satisfied, skipping upgrade: wrapt<1.11.0,>=1.10.0 in /Users/macbook/opt/anaconda3/lib/python3.7/site-packages (from thinc<6.13.0,>=6.12.1->spacy<=2.0.18,>2.0; extra == \"spacy\"->rasa_nlu[spacy]) (1.10.11)\n",
      "Requirement already satisfied, skipping upgrade: cytoolz<0.10,>=0.9.0 in /Users/macbook/opt/anaconda3/lib/python3.7/site-packages (from thinc<6.13.0,>=6.12.1->spacy<=2.0.18,>2.0; extra == \"spacy\"->rasa_nlu[spacy]) (0.9.0.1)\n",
      "Requirement already satisfied, skipping upgrade: msgpack-numpy<0.4.4 in /Users/macbook/opt/anaconda3/lib/python3.7/site-packages (from thinc<6.13.0,>=6.12.1->spacy<=2.0.18,>2.0; extra == \"spacy\"->rasa_nlu[spacy]) (0.4.3.2)\n",
      "Requirement already satisfied, skipping upgrade: pycparser in /Users/macbook/opt/anaconda3/lib/python3.7/site-packages (from cffi!=1.11.3,>=1.8->cryptography->python-telegram-bot~=11.0->rasa_core) (2.19)\n",
      "Requirement already satisfied, skipping upgrade: toolz>=0.8.0 in /Users/macbook/opt/anaconda3/lib/python3.7/site-packages (from cytoolz<0.10,>=0.9.0->thinc<6.13.0,>=6.12.1->spacy<=2.0.18,>2.0; extra == \"spacy\"->rasa_nlu[spacy]) (0.10.0)\n"
     ]
    }
   ],
   "source": [
    "import sys\n",
    "python = sys.executable\n",
    "\n",
    "# In your environment run:\n",
    "!{python} -m pip install -U rasa_core rasa_nlu[spacy];"
   ]
  },
  {
   "cell_type": "code",
   "execution_count": 10,
   "metadata": {},
   "outputs": [
    {
     "name": "stdout",
     "output_type": "stream",
     "text": [
      "Collecting en_core_web_md==2.0.0 from https://github.com/explosion/spacy-models/releases/download/en_core_web_md-2.0.0/en_core_web_md-2.0.0.tar.gz#egg=en_core_web_md==2.0.0\n",
      "\u001b[?25l  Downloading https://github.com/explosion/spacy-models/releases/download/en_core_web_md-2.0.0/en_core_web_md-2.0.0.tar.gz (120.8MB)\n",
      "\u001b[K     |████████████████████████████████| 120.9MB 5.0MB/s eta 0:00:01    |███▋                            | 13.7MB 2.1MB/s eta 0:00:51     |████████▎                       | 31.1MB 27.8MB/s eta 0:00:04\n",
      "\u001b[?25hBuilding wheels for collected packages: en-core-web-md\n",
      "  Building wheel for en-core-web-md (setup.py) ... \u001b[?25ldone\n",
      "\u001b[?25h  Created wheel for en-core-web-md: filename=en_core_web_md-2.0.0-cp37-none-any.whl size=122523223 sha256=6761be84a7846c7d59fe1513cb5758b35fd51726fad12cc0c245213f1d8e26dc\n",
      "  Stored in directory: /private/var/folders/t8/v2jb6bk16zg8bs8_4rc6ngdm0000gn/T/pip-ephem-wheel-cache-cc2vffux/wheels/db/5d/d0/ccdad6b01f9695b4a33793158530b3228223ee31463441663d\n",
      "Successfully built en-core-web-md\n",
      "Installing collected packages: en-core-web-md\n",
      "Successfully installed en-core-web-md-2.0.0\n",
      "\n",
      "\u001b[93m    Linking successful\u001b[0m\n",
      "    /Users/macbook/opt/anaconda3/lib/python3.7/site-packages/en_core_web_md\n",
      "    -->\n",
      "    /Users/macbook/opt/anaconda3/lib/python3.7/site-packages/spacy/data/en_core_web_md\n",
      "\n",
      "    You can now load the model via spacy.load('en_core_web_md')\n",
      "\n"
     ]
    }
   ],
   "source": [
    "!{python} -m spacy download en_core_web_md"
   ]
  },
  {
   "cell_type": "markdown",
   "metadata": {},
   "source": [
    "## Downloading the English Language Model"
   ]
  },
  {
   "cell_type": "code",
   "execution_count": 11,
   "metadata": {},
   "outputs": [
    {
     "name": "stdout",
     "output_type": "stream",
     "text": [
      "\r\n",
      "\u001b[93m    Linking successful\u001b[0m\r\n",
      "    /Users/macbook/opt/anaconda3/lib/python3.7/site-packages/en_core_web_md\r\n",
      "    -->\r\n",
      "    /Users/macbook/opt/anaconda3/lib/python3.7/site-packages/spacy/data/en\r\n",
      "\r\n",
      "    You can now load the model via spacy.load('en')\r\n",
      "\r\n"
     ]
    }
   ],
   "source": [
    "!{python} -m spacy link en_core_web_md en --force;"
   ]
  },
  {
   "cell_type": "markdown",
   "metadata": {},
   "source": [
    "# Importing the Installations"
   ]
  },
  {
   "cell_type": "code",
   "execution_count": null,
   "metadata": {},
   "outputs": [],
   "source": []
  }
 ],
 "metadata": {
  "kernelspec": {
   "display_name": "Python 3",
   "language": "python",
   "name": "python3"
  },
  "language_info": {
   "codemirror_mode": {
    "name": "ipython",
    "version": 3
   },
   "file_extension": ".py",
   "mimetype": "text/x-python",
   "name": "python",
   "nbconvert_exporter": "python",
   "pygments_lexer": "ipython3",
   "version": "3.7.4"
  }
 },
 "nbformat": 4,
 "nbformat_minor": 2
}
