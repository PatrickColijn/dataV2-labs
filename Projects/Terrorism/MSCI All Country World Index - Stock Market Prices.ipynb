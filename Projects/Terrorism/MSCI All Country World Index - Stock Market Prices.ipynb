{
 "cells": [
  {
   "cell_type": "markdown",
   "metadata": {},
   "source": [
    "# Importing data"
   ]
  },
  {
   "cell_type": "code",
   "execution_count": 5,
   "metadata": {},
   "outputs": [],
   "source": [
    "# Import Yahoo Finance library\n",
    "import yfinance as yf \n",
    "import pandas as pd \n",
    "import plotly.express as px \n",
    "%matplotlib inline\n",
    "\n",
    "# Assign tickers to retrieve stock data \n",
    "MSCI = yf.Ticker('ACWI')\n",
    "\n",
    "# Retrieve stock data \n",
    "data_MSCI = MSCI.history(period=\"max\")"
   ]
  },
  {
   "cell_type": "markdown",
   "metadata": {},
   "source": [
    "# Creating Delta for MSCI Index"
   ]
  },
  {
   "cell_type": "code",
   "execution_count": 6,
   "metadata": {},
   "outputs": [],
   "source": [
    "# Create a new dataframe for testing \n",
    "data2_MSCI = data_MSCI\n",
    "data2_MSCI = data2_MSCI.reset_index()\n",
    "\n",
    "# Create a function to create the list of delta's\n",
    "def delta_list(df):\n",
    "    delta = []\n",
    "    for x in df.index:\n",
    "        if x == 0:\n",
    "            delta.append((df.iloc[(x)].Close) - (df.iloc[(x)].Open))\n",
    "        else:\n",
    "            if df.iloc[(x)].Open == df.iloc[(x)].High == df.iloc[(x)].Low == df.iloc[(x)].Close:\n",
    "                delta.append((df.iloc[(x)].Close) - (df.iloc[(x-1)].Close))\n",
    "            else:\n",
    "                delta.append((df.iloc[(x)].Close) - (df.iloc[(x)].Open))\n",
    "    return delta\n",
    "\n",
    "# Create a function to create the list of delta's\n",
    "def delta_percentage_list(df):\n",
    "    delta = []\n",
    "    for x in df.index:\n",
    "        if x == 0:\n",
    "            delta.append(0)\n",
    "        else:\n",
    "            if df.iloc[(x)].Open == df.iloc[(x)].High == df.iloc[(x)].Low == df.iloc[(x)].Close:\n",
    "                delta.append(((df.iloc[(x)].Close) - (df.iloc[(x-1)].Close))/(df.iloc[(x-1)].Close))\n",
    "            else:\n",
    "                delta.append(((df.iloc[(x)].Close) - (df.iloc[(x)].Open)) / (df.iloc[(x)].Open))\n",
    "    return delta\n",
    "\n",
    "\n",
    "# Converting the Delta list into a pd.Series and add it to the DataFrame\n",
    "data2_MSCI['DeltaMSCI'] = pd.Series(delta_list(data2_MSCI)) \n",
    "\n",
    "# Creating a cumulative column for delta percentage\n",
    "data2_MSCI['DeltaMSCI-CUM'] = data2_MSCI.DeltaMSCI.cumsum(skipna = False)\n",
    "\n",
    "# Converting the Delta list into a pd.Series and add it to the DataFrame\n",
    "data2_MSCI['Delta%-MSCI'] = pd.Series(delta_percentage_list(data2_MSCI))\n",
    "\n",
    "# Creating a cumulative column for delta percentage\n",
    "data2_MSCI['Delta%-MSCI-CUM'] = data2_MSCI['Delta%-MSCI'].cumsum(skipna = False)\n",
    "\n",
    "# Drop columns Volume, Dividends and Stock Splits\n",
    "dropped_columns = ['Volume', 'Dividends', 'Stock Splits']\n",
    "stock_dataframes = [data2_MSCI]\n",
    "\n",
    "for df in stock_dataframes:\n",
    "    df.drop(dropped_columns, axis=1, inplace=True)"
   ]
  },
  {
   "cell_type": "markdown",
   "metadata": {},
   "source": [
    "# Saving data for further analysis"
   ]
  },
  {
   "cell_type": "code",
   "execution_count": 7,
   "metadata": {},
   "outputs": [],
   "source": [
    "# Save dataframes to .csv file for analysis \n",
    "data2_MSCI.to_csv('MSCI.csv')"
   ]
  },
  {
   "cell_type": "code",
   "execution_count": 8,
   "metadata": {},
   "outputs": [
    {
     "data": {
      "text/html": [
       "<div>\n",
       "<style scoped>\n",
       "    .dataframe tbody tr th:only-of-type {\n",
       "        vertical-align: middle;\n",
       "    }\n",
       "\n",
       "    .dataframe tbody tr th {\n",
       "        vertical-align: top;\n",
       "    }\n",
       "\n",
       "    .dataframe thead th {\n",
       "        text-align: right;\n",
       "    }\n",
       "</style>\n",
       "<table border=\"1\" class=\"dataframe\">\n",
       "  <thead>\n",
       "    <tr style=\"text-align: right;\">\n",
       "      <th></th>\n",
       "      <th>Date</th>\n",
       "      <th>Open</th>\n",
       "      <th>High</th>\n",
       "      <th>Low</th>\n",
       "      <th>Close</th>\n",
       "      <th>DeltaMSCI</th>\n",
       "      <th>DeltaMSCI-CUM</th>\n",
       "      <th>Delta%-MSCI</th>\n",
       "      <th>Delta%-MSCI-CUM</th>\n",
       "    </tr>\n",
       "  </thead>\n",
       "  <tbody>\n",
       "    <tr>\n",
       "      <td>0</td>\n",
       "      <td>2008-03-28</td>\n",
       "      <td>39.57</td>\n",
       "      <td>39.57</td>\n",
       "      <td>39.57</td>\n",
       "      <td>39.57</td>\n",
       "      <td>0.00</td>\n",
       "      <td>0.00</td>\n",
       "      <td>0.000000</td>\n",
       "      <td>0.000000</td>\n",
       "    </tr>\n",
       "    <tr>\n",
       "      <td>1</td>\n",
       "      <td>2008-03-31</td>\n",
       "      <td>39.49</td>\n",
       "      <td>39.49</td>\n",
       "      <td>38.95</td>\n",
       "      <td>38.95</td>\n",
       "      <td>-0.54</td>\n",
       "      <td>-0.54</td>\n",
       "      <td>-0.013674</td>\n",
       "      <td>-0.013674</td>\n",
       "    </tr>\n",
       "    <tr>\n",
       "      <td>2</td>\n",
       "      <td>2008-04-01</td>\n",
       "      <td>39.69</td>\n",
       "      <td>40.01</td>\n",
       "      <td>39.62</td>\n",
       "      <td>40.01</td>\n",
       "      <td>0.32</td>\n",
       "      <td>-0.22</td>\n",
       "      <td>0.008062</td>\n",
       "      <td>-0.005612</td>\n",
       "    </tr>\n",
       "    <tr>\n",
       "      <td>3</td>\n",
       "      <td>2008-04-02</td>\n",
       "      <td>40.38</td>\n",
       "      <td>40.60</td>\n",
       "      <td>40.32</td>\n",
       "      <td>40.45</td>\n",
       "      <td>0.07</td>\n",
       "      <td>-0.15</td>\n",
       "      <td>0.001734</td>\n",
       "      <td>-0.003878</td>\n",
       "    </tr>\n",
       "    <tr>\n",
       "      <td>4</td>\n",
       "      <td>2008-04-03</td>\n",
       "      <td>47.15</td>\n",
       "      <td>47.15</td>\n",
       "      <td>40.24</td>\n",
       "      <td>40.68</td>\n",
       "      <td>-6.47</td>\n",
       "      <td>-6.62</td>\n",
       "      <td>-0.137222</td>\n",
       "      <td>-0.141100</td>\n",
       "    </tr>\n",
       "  </tbody>\n",
       "</table>\n",
       "</div>"
      ],
      "text/plain": [
       "        Date   Open   High    Low  Close  DeltaMSCI  DeltaMSCI-CUM  \\\n",
       "0 2008-03-28  39.57  39.57  39.57  39.57       0.00           0.00   \n",
       "1 2008-03-31  39.49  39.49  38.95  38.95      -0.54          -0.54   \n",
       "2 2008-04-01  39.69  40.01  39.62  40.01       0.32          -0.22   \n",
       "3 2008-04-02  40.38  40.60  40.32  40.45       0.07          -0.15   \n",
       "4 2008-04-03  47.15  47.15  40.24  40.68      -6.47          -6.62   \n",
       "\n",
       "   Delta%-MSCI  Delta%-MSCI-CUM  \n",
       "0     0.000000         0.000000  \n",
       "1    -0.013674        -0.013674  \n",
       "2     0.008062        -0.005612  \n",
       "3     0.001734        -0.003878  \n",
       "4    -0.137222        -0.141100  "
      ]
     },
     "execution_count": 8,
     "metadata": {},
     "output_type": "execute_result"
    }
   ],
   "source": [
    "data2_MSCI.head()"
   ]
  },
  {
   "cell_type": "code",
   "execution_count": null,
   "metadata": {},
   "outputs": [],
   "source": []
  }
 ],
 "metadata": {
  "kernelspec": {
   "display_name": "Python 3",
   "language": "python",
   "name": "python3"
  },
  "language_info": {
   "codemirror_mode": {
    "name": "ipython",
    "version": 3
   },
   "file_extension": ".py",
   "mimetype": "text/x-python",
   "name": "python",
   "nbconvert_exporter": "python",
   "pygments_lexer": "ipython3",
   "version": "3.7.4"
  }
 },
 "nbformat": 4,
 "nbformat_minor": 2
}
