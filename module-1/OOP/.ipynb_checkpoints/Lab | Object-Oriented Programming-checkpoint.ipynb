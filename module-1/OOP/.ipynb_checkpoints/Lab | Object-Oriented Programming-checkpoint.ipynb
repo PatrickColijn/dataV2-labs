{
 "cells": [
  {
   "cell_type": "markdown",
   "metadata": {},
   "source": [
    "### Remove All The Marked Elements of a List"
   ]
  },
  {
   "cell_type": "code",
   "execution_count": 100,
   "metadata": {},
   "outputs": [],
   "source": [
    "# Define class List() including all methods/functions\n",
    "class List:\n",
    "    def remove_(self, integer_list, values_list):\n",
    "        result = [integer for integer in integer_list if integer not in values_list]\n",
    "        return result\n",
    "    \n",
    "    def count_spec_digits(self, integer_list, digits_list):\n",
    "        result = []\n",
    "        for digit in digits_list:\n",
    "            count = 0 \n",
    "            for integer in integer_list:\n",
    "                for char in str(integer):\n",
    "                    if char == str(digit):\n",
    "                        count += 1\n",
    "            result.append(tuple((digit, count)))\n",
    "        return result\n",
    "    \n",
    "    def ordered_count(self, string):\n",
    "        unique_values = []\n",
    "        for char in string:\n",
    "            if char not in unique_values:\n",
    "                unique_values.append(char)\n",
    "                \n",
    "        result = []\n",
    "        for value in unique_values:\n",
    "            count = 0 \n",
    "            for char in string:\n",
    "                    if char == value:\n",
    "                        count += 1\n",
    "            result.append(tuple((value, count)))\n",
    "        return result"
   ]
  },
  {
   "cell_type": "code",
   "execution_count": 101,
   "metadata": {},
   "outputs": [
    {
     "name": "stdout",
     "output_type": "stream",
     "text": [
      "True\n",
      "True\n",
      "True\n"
     ]
    }
   ],
   "source": [
    "# Define a method/function that removes from a given array of integers all the values contained in a second array.\n",
    "l = List()\n",
    "\n",
    "integer_list =  [1, 1, 2 ,3 ,1 ,2 ,3 ,4]\n",
    "values_list = [1, 3]\n",
    "print(l.remove_(integer_list, values_list) == [2, 2, 4])\n",
    "\n",
    "integer_list = [1, 1, 2 ,3 ,1 ,2 ,3 ,4, 4, 3 ,5, 6, 7, 2, 8]\n",
    "lst = [1, 3, 4, 2]\n",
    "print(l.remove_(integer_list, lst) == [5, 6 ,7 ,8])\n",
    "\n",
    "integer_list = [8, 2, 7, 2, 3, 4, 6, 5, 4, 4, 1, 2 , 3]\n",
    "lst = [2, 4, 3]\n",
    "print(l.remove_(integer_list, lst) == [8, 7, 6, 5, 1])"
   ]
  },
  {
   "cell_type": "markdown",
   "metadata": {},
   "source": [
    "### Method For Counting Total Occurence Of Specific Digits"
   ]
  },
  {
   "cell_type": "code",
   "execution_count": 102,
   "metadata": {},
   "outputs": [
    {
     "name": "stdout",
     "output_type": "stream",
     "text": [
      "True\n",
      "True\n",
      "True\n"
     ]
    }
   ],
   "source": [
    "# The method will output a list of tuples, each tuple having two elements,\n",
    "# the first one will be a digit to count, and second one, its corresponding \n",
    "# total frequency in all the integers of the first list.\n",
    "l = List()\n",
    "\n",
    "integers_list =  [1, 1, 2 ,3 ,1 ,2 ,3 ,4]\n",
    "digits_list = [1, 3]\n",
    "print(l.count_spec_digits(integers_list, digits_list) == [(1, 3), (3, 2)])\n",
    "\n",
    "integers_list = [-18, -31, 81, -19, 111, -888]\n",
    "digits_list = [1, 8, 4]\n",
    "print(l.count_spec_digits(integers_list, digits_list) == [(1, 7), (8, 5), (4, 0)])\n",
    "\n",
    "integers_list = [-77, -65, 56, -79, 6666, 222]\n",
    "digits_list = [1, 8, 4]\n",
    "print(l.count_spec_digits(integers_list, digits_list) == [(1, 0), (8, 0), (4, 0)])"
   ]
  },
  {
   "cell_type": "markdown",
   "metadata": {},
   "source": [
    "### Ordered Count of Characters"
   ]
  },
  {
   "cell_type": "code",
   "execution_count": 103,
   "metadata": {},
   "outputs": [
    {
     "data": {
      "text/plain": [
       "True"
      ]
     },
     "execution_count": 103,
     "metadata": {},
     "output_type": "execute_result"
    }
   ],
   "source": [
    "# Count the number of occurrences of each character and return it as a list of tuples in order of appearance.\n",
    "l = List()\n",
    "l.ordered_count(\"abracadabra\") == [('a', 5), ('b', 2), ('r', 2), ('c', 1), ('d', 1)]"
   ]
  }
 ],
 "metadata": {
  "kernelspec": {
   "display_name": "Python 3",
   "language": "python",
   "name": "python3"
  },
  "language_info": {
   "codemirror_mode": {
    "name": "ipython",
    "version": 3
   },
   "file_extension": ".py",
   "mimetype": "text/x-python",
   "name": "python",
   "nbconvert_exporter": "python",
   "pygments_lexer": "ipython3",
   "version": "3.7.4"
  }
 },
 "nbformat": 4,
 "nbformat_minor": 2
}
