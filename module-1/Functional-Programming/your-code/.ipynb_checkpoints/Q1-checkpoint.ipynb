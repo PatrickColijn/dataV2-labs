{
 "cells": [
  {
   "cell_type": "markdown",
   "metadata": {},
   "source": [
    "In the cell below, create a Python function that wraps your previous solution for the Bag of Words lab.\n",
    "\n",
    "Requirements:\n",
    "\n",
    "1. Your function should accept the following parameters:\n",
    "    * `docs` [REQUIRED] - array of document paths.\n",
    "    * `stop_words` [OPTIONAL] - array of stop words. The default value is an empty array.\n",
    "\n",
    "1. Your function should return a Python object that contains the following:\n",
    "    * `bag_of_words` - array of strings of normalized unique words in the corpus.\n",
    "    * `term_freq` - array of the term-frequency vectors."
   ]
  },
  {
   "cell_type": "code",
   "execution_count": 1,
   "metadata": {},
   "outputs": [
    {
     "name": "stdout",
     "output_type": "stream",
     "text": [
      "corpus:  [['ironhack', 'is', 'cool'], ['i', 'love', 'ironhack'], ['i', 'am', 'a', 'student', 'at', 'ironhack']]\n",
      "bag_of_words:  ['ironhack', 'is', 'cool', 'i', 'love', 'am', 'a', 'student', 'at']\n",
      "term_freq:  [[1, 1, 1, 0, 0, 0, 0, 0, 0], [1, 0, 0, 1, 1, 0, 0, 0, 0], [1, 0, 0, 1, 0, 1, 1, 1, 1]]\n"
     ]
    }
   ],
   "source": [
    "# Documents to be used\n",
    "doc1 = 'Ironhack is cool.'\n",
    "doc2 = 'I love Ironhack.'\n",
    "doc3 = 'I am a student at Ironhack.'\n",
    "docs = [doc1, doc2, doc3]\n",
    "bag_of_words = []\n",
    "corpus = []\n",
    "term_freq = []\n",
    "\n",
    "for doc in docs:\n",
    "    x = doc.strip(\".\").lower().split()\n",
    "    corpus.append(x)\n",
    "\n",
    "for doc in corpus:\n",
    "    for word in doc:\n",
    "        if word not in bag_of_words:\n",
    "            bag_of_words.append(word)\n",
    "\n",
    "for doc in corpus:\n",
    "    doc_list = []\n",
    "    for word in bag_of_words:\n",
    "        if word in doc:\n",
    "            doc_list.append(1)\n",
    "        else:\n",
    "            doc_list.append(0)\n",
    "    term_freq.append(doc_list)\n",
    "            \n",
    "print(\"corpus: \", corpus)\n",
    "print(\"bag_of_words: \",bag_of_words)\n",
    "print(\"term_freq: \",term_freq )"
   ]
  },
  {
   "cell_type": "code",
   "execution_count": 2,
   "metadata": {},
   "outputs": [
    {
     "name": "stdout",
     "output_type": "stream",
     "text": [
      "{'bag_of_words': ['ironhack', 'is', 'cool', 'i', 'love', 'am', 'a', 'student', 'at'], 'term_freq': [[1, 1, 1, 0, 0, 0, 0, 0, 0], [1, 0, 0, 1, 1, 0, 0, 0, 0], [1, 0, 0, 1, 0, 1, 1, 1, 1]]}\n"
     ]
    }
   ],
   "source": [
    "# Import required libraries\n",
    "\n",
    "# do what you want with all these open files\n",
    "doc1 = 'Ironhack is cool.'\n",
    "doc2 = 'I love Ironhack.'\n",
    "doc3 = 'I am a student at Ironhack.'\n",
    "docs = [doc1, doc2, doc3]\n",
    "\n",
    "# Define function\n",
    "def get_bow_from_docs(docs, stop_words=[]):\n",
    "    corpus = []\n",
    "    bag_of_words = []\n",
    "    term_freq = []\n",
    "    \n",
    "    for doc in docs:\n",
    "        x = doc.strip(\".\").lower().split()\n",
    "        corpus.append(x)\n",
    "    \n",
    "    for doc in corpus:\n",
    "        for word in doc:\n",
    "            if word not in bag_of_words and word not in stop_words:\n",
    "                bag_of_words.append(word)\n",
    "                \n",
    "    for doc in corpus:\n",
    "        doc_list = []\n",
    "        for word in bag_of_words:\n",
    "            if word in doc:\n",
    "                doc_list.append(1)\n",
    "            else:\n",
    "                doc_list.append(0)\n",
    "        term_freq.append(doc_list)\n",
    "    \n",
    "    # Now return your output as an object\n",
    "    return {\n",
    "        \"bag_of_words\": bag_of_words,\n",
    "        \"term_freq\": term_freq\n",
    "    }\n",
    "\n",
    "print(get_bow_from_docs(docs))"
   ]
  },
  {
   "cell_type": "markdown",
   "metadata": {},
   "source": [
    "Test your function without stop words. You should see the output like below:\n",
    "\n",
    "```{'bag_of_words': ['ironhack', 'is', 'cool', 'i', 'love', 'am', 'a', 'student', 'at'], 'term_freq': [[1, 1, 1, 0, 0, 0, 0, 0, 0], [1, 0, 0, 1, 1, 0, 0, 0, 0], [1, 0, 0, 1, 0, 1, 1, 1, 1]]}```"
   ]
  },
  {
   "cell_type": "code",
   "execution_count": 3,
   "metadata": {},
   "outputs": [
    {
     "name": "stdout",
     "output_type": "stream",
     "text": [
      "{'bag_of_words': ['ironhack', 'is', 'cool', 'i', 'love', 'am', 'a', 'student', 'at'], 'term_freq': [[1, 1, 1, 0, 0, 0, 0, 0, 0], [1, 0, 0, 1, 1, 0, 0, 0, 0], [1, 0, 0, 1, 0, 1, 1, 1, 1]]}\n"
     ]
    }
   ],
   "source": [
    "# Define doc paths array\n",
    "docs = [doc1, doc2, doc3]\n",
    "\n",
    "# Obtain BoW from your function\n",
    "bow = get_bow_from_docs(docs)\n",
    "\n",
    "# Print BoW\n",
    "print(bow)"
   ]
  },
  {
   "cell_type": "markdown",
   "metadata": {},
   "source": [
    "If your attempt above is successful, nice work done!\n",
    "\n",
    "Now test your function again with the stop words. In the previous lab we defined the stop words in a large array. In this lab, we'll import the stop words from Scikit-Learn."
   ]
  },
  {
   "cell_type": "code",
   "execution_count": 4,
   "metadata": {},
   "outputs": [
    {
     "name": "stdout",
     "output_type": "stream",
     "text": [
      "frozenset({'in', 'already', 'their', 'that', 'toward', 'from', 'back', 'empty', 'myself', 'nine', 'may', 'after', 'a', 'whose', 'front', 'whether', 'top', 'couldnt', 'another', 'be', 'wherein', 'whom', 'she', 'sixty', 'each', 'or', 'almost', 'own', 'your', 'thereafter', 'others', 'move', 'fifty', 'elsewhere', 'go', 'was', 'inc', 'between', 'along', 'against', 'to', 'we', 'very', 'other', 'cannot', 'whenever', 'less', 'is', 'towards', 'hers', 'until', 'becoming', 'serious', 'noone', 'together', 're', 'am', 'ie', 'mostly', 'fifteen', 'under', 'will', 'seemed', 'but', 'more', 'still', 'cant', 'never', 'hence', 'themselves', 'well', 'ever', 'ourselves', 'into', 'hasnt', 'since', 'thereby', 'whoever', 'behind', 'him', 'nobody', 'what', 'thru', 'them', 'anyone', 'for', 'always', 'its', 'next', 'latter', 'amongst', 'via', 'ltd', 'become', 'those', 'three', 'co', 'thin', 'beside', 'indeed', 'down', 'they', 'with', 'nowhere', 'least', 'has', 'most', 'often', 'six', 'he', 'became', 'de', 'it', 'detail', 'side', 'while', 'nothing', 'though', 'twenty', 'because', 'part', 'please', 'too', 'un', 'four', 'herself', 'thick', 'anyway', 'twelve', 'anyhow', 'interest', 'herein', 'by', 'ours', 'such', 'this', 'hereby', 'any', 'etc', 'yourself', 'beyond', 'few', 'me', 'keep', 'do', 'wherever', 'mine', 'our', 'except', 'where', 'below', 'whereafter', 'about', 'are', 'nor', 'latterly', 'would', 'both', 'seems', 'no', 'five', 'two', 'mill', 'becomes', 'her', 'either', 'thus', 'might', 'done', 'somewhere', 'thence', 'perhaps', 'himself', 'somehow', 'my', 'then', 'con', 'however', 'last', 'during', 'ten', 'seeming', 'enough', 'who', 'forty', 'yourselves', 'bottom', 'yours', 'afterwards', 'without', 'take', 'found', 'if', 'upon', 'thereupon', 'anywhere', 'had', 'within', 'being', 'throughout', 'show', 'around', 'could', 'fire', 'call', 'anything', 'therefore', 'several', 'else', 'up', 'as', 'namely', 'sometime', 'meanwhile', 'full', 'neither', 'so', 'an', 'why', 'whither', 'through', 'have', 'hereafter', 'eight', 'something', 'above', 'see', 'although', 'moreover', 'whereby', 'everyone', 'must', 'sometimes', 'now', 'hereupon', 'again', 'not', 'therein', 'at', 'itself', 'among', 'name', 'us', 'i', 'all', 'been', 'same', 'describe', 'beforehand', 'rather', 'bill', 'sincere', 'give', 'besides', 'whereupon', 'and', 'than', 'whole', 'whence', 'due', 'onto', 'cry', 'how', 'before', 'on', 'every', 'the', 'amount', 'some', 'only', 'when', 'per', 'fill', 'third', 'seem', 'whereas', 'put', 'even', 'yet', 'whatever', 'former', 'everything', 'out', 'many', 'here', 'should', 'his', 'otherwise', 'one', 'formerly', 'eg', 'these', 'everywhere', 'alone', 'someone', 'off', 'system', 'of', 'hundred', 'none', 'amoungst', 'first', 'also', 'you', 'once', 'across', 'which', 'eleven', 'over', 'were', 'can', 'find', 'made', 'much', 'there', 'get', 'nevertheless', 'further'})\n"
     ]
    }
   ],
   "source": [
    "from sklearn.feature_extraction import stop_words\n",
    "print(stop_words.ENGLISH_STOP_WORDS)"
   ]
  },
  {
   "cell_type": "markdown",
   "metadata": {},
   "source": [
    "You should have seen a large list of words that looks like:\n",
    "\n",
    "```frozenset({'across', 'mine', 'cannot', ...})```\n",
    "\n",
    "`frozenset` is a type of Python object that is immutable. In this lab you can use it just like an array without conversion."
   ]
  },
  {
   "cell_type": "markdown",
   "metadata": {},
   "source": [
    "Next, test your function with supplying `stop_words.ENGLISH_STOP_WORDS` as the second parameter."
   ]
  },
  {
   "cell_type": "code",
   "execution_count": 9,
   "metadata": {},
   "outputs": [
    {
     "name": "stdout",
     "output_type": "stream",
     "text": [
      "{'bag_of_words': ['ironhack', 'cool', 'love', 'student'], 'term_freq': [[1, 1, 0, 0], [1, 0, 1, 0], [1, 0, 0, 1]]}\n"
     ]
    }
   ],
   "source": [
    "bow = get_bow_from_docs(docs, stop_words.ENGLISH_STOP_WORDS)\n",
    "\n",
    "print(bow)"
   ]
  },
  {
   "cell_type": "markdown",
   "metadata": {},
   "source": [
    "You should have seen:\n",
    "\n",
    "```{'bag_of_words': ['ironhack', 'cool', 'love', 'student'], 'term_freq': [[1, 1, 0, 0], [1, 0, 1, 0], [1, 0, 0, 1]]}```"
   ]
  },
  {
   "cell_type": "code",
   "execution_count": null,
   "metadata": {},
   "outputs": [],
   "source": []
  }
 ],
 "metadata": {
  "kernelspec": {
   "display_name": "Python 3",
   "language": "python",
   "name": "python3"
  },
  "language_info": {
   "codemirror_mode": {
    "name": "ipython",
    "version": 3
   },
   "file_extension": ".py",
   "mimetype": "text/x-python",
   "name": "python",
   "nbconvert_exporter": "python",
   "pygments_lexer": "ipython3",
   "version": "3.7.4"
  }
 },
 "nbformat": 4,
 "nbformat_minor": 2
}
