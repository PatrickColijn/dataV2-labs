{
 "cells": [
  {
   "cell_type": "markdown",
   "metadata": {},
   "source": [
    "# Before your start:\n",
    "- Read the README.md file\n",
    "- Comment as much as you can and use the resources in the README.md file\n",
    "- Happy learning!"
   ]
  },
  {
   "cell_type": "code",
   "execution_count": 1,
   "metadata": {},
   "outputs": [],
   "source": [
    "import re"
   ]
  },
  {
   "cell_type": "markdown",
   "metadata": {},
   "source": [
    "# Challenge 1 - Combining Strings\n",
    "\n",
    "Combining strings is an important skill to acquire. There are multiple ways of combining strings in Python, as well as combining strings with variables. We will explore this in the first challenge. In the cell below, combine the strings in the list and add spaces between the strings (do not add a space after the last string). Insert a period after the last string."
   ]
  },
  {
   "cell_type": "code",
   "execution_count": 78,
   "metadata": {},
   "outputs": [
    {
     "name": "stdout",
     "output_type": "stream",
     "text": [
      "Durante un tiempo no estuvo segura de si su marido era su marido.\n"
     ]
    }
   ],
   "source": [
    "str_list = ['Durante', 'un', 'tiempo', 'no', 'estuvo', 'segura', 'de', 'si', 'su', 'marido', 'era', 'su', 'marido']\n",
    "# Your code here: \n",
    "new_str_list = ' '.join(str_list)\n",
    "print(new_str_list+\".\")"
   ]
  },
  {
   "cell_type": "markdown",
   "metadata": {},
   "source": [
    "In the cell below, use the list of strings to create a grocery list. Start the list with the string `Grocery list: ` and include a comma and a space between each item except for the last one. Include a period at the end. Only include foods in the list that start with the letter 'b' and ensure all foods are lower case."
   ]
  },
  {
   "cell_type": "code",
   "execution_count": 80,
   "metadata": {},
   "outputs": [
    {
     "name": "stdout",
     "output_type": "stream",
     "text": [
      "Grocery list: bananas, bread, brownie mix, broccoli.\n"
     ]
    }
   ],
   "source": [
    "food_list = ['Bananas', 'Chocolate', 'bread', 'diapers', 'Ice Cream', 'Brownie Mix', 'broccoli']\n",
    "# Your code here:\n",
    "\n",
    "final_groceries = []\n",
    "\n",
    "for food in food_list:\n",
    "    if food.startswith('b'):\n",
    "        final_groceries.append(food)\n",
    "    elif food.startswith('B'):\n",
    "        final_groceries.append(food)\n",
    "    else:\n",
    "        continue\n",
    "\n",
    "final_groceries = ', '.join(final_groceries).lower()\n",
    "print(\"Grocery list:\", final_groceries + \".\")"
   ]
  },
  {
   "cell_type": "markdown",
   "metadata": {},
   "source": [
    "In the cell below, write a function that computes the area of a circle using its radius. Compute the area of the circle and insert the radius and the area between the two strings. Make sure to include spaces between the variable and the strings. \n",
    "\n",
    "Note: You can use the techniques we have learned so far or use f-strings. F-strings allow us to embed code inside strings. You can read more about f-strings [here](https://www.python.org/dev/peps/pep-0498/)."
   ]
  },
  {
   "cell_type": "code",
   "execution_count": 4,
   "metadata": {},
   "outputs": [
    {
     "name": "stdout",
     "output_type": "stream",
     "text": [
      "The area of the circle with radius: 4.5 is: 63.6\n"
     ]
    }
   ],
   "source": [
    "import math\n",
    "\n",
    "string1 = \"The area of the circle with radius:\"\n",
    "string2  = \"is:\"\n",
    "radius = 4.5\n",
    "\n",
    "def area(x, pi = math.pi):\n",
    "    \"\"\"\n",
    "    This function takes a radius and returns the area of a circle. \n",
    "    We also pass a default value for pi.\n",
    "    \n",
    "    Input: Float (and default value for pi)\n",
    "    Output: Float\n",
    "    \n",
    "    Sample input: 5.0\n",
    "    Sample Output: 78.53981633\n",
    "    \"\"\"\n",
    "    \n",
    "    # Your code here:\n",
    "    output = x**2 * pi\n",
    "    return output\n",
    "    \n",
    "    \n",
    "# Your output string here:\n",
    "area = round(area(radius),1)\n",
    "print(\"{} {} {} {}\".format(string1, radius, string2, area))"
   ]
  },
  {
   "cell_type": "markdown",
   "metadata": {},
   "source": [
    "# Challenge 2 - Splitting Strings\n",
    "\n",
    "We have first looked at combining strings into one long string. There are times where we need to do the opposite and split the string into smaller components for further analysis. \n",
    "\n",
    "In the cell below, split the string into a list of strings using the space delimiter. Count the frequency of each word in the string in a dictionary. Strip the periods, line breaks and commas from the text. Make sure to remove empty strings from your dictionary."
   ]
  },
  {
   "cell_type": "code",
   "execution_count": 14,
   "metadata": {},
   "outputs": [
    {
     "name": "stdout",
     "output_type": "stream",
     "text": [
      "some  -  2\n",
      "say  -  3\n",
      "the  -  1\n",
      "world  -  1\n",
      "will  -  1\n",
      "end  -  1\n",
      "in  -  2\n",
      "fire  -  2\n",
      "ice  -  2\n",
      "from  -  1\n",
      "what  -  1\n",
      "i’ve  -  1\n",
      "tasted  -  1\n",
      "of  -  2\n",
      "desire  -  1\n",
      "i  -  3\n",
      "hold  -  1\n",
      "with  -  1\n",
      "those  -  1\n",
      "who  -  1\n",
      "favor  -  1\n",
      "but  -  1\n",
      "if  -  1\n",
      "it  -  1\n",
      "had  -  1\n",
      "to  -  2\n",
      "perish  -  1\n",
      "twice  -  1\n",
      "think  -  1\n",
      "know  -  1\n",
      "enough  -  1\n",
      "hate  -  1\n",
      "that  -  1\n",
      "for  -  1\n",
      "destruction  -  1\n",
      "is  -  1\n",
      "also  -  1\n",
      "great  -  1\n",
      "and  -  1\n",
      "would  -  1\n",
      "suffice  -  1\n",
      "None\n"
     ]
    }
   ],
   "source": [
    "poem = \"\"\"Some say the world will end in fire,\n",
    "Some say in ice.\n",
    "From what I’ve tasted of desire\n",
    "I hold with those who favor fire.\n",
    "But if it had to perish twice,\n",
    "I think I know enough of hate\n",
    "To say that for destruction ice\n",
    "Is also great\n",
    "And would suffice.\"\"\"\n",
    "\n",
    "# Your code here:\n",
    "\n",
    "# Clean data and split the string into a list of string \n",
    "poem = poem.lower()\n",
    "new_poem = poem.replace(\".\",\"\")\n",
    "new_poem = new_poem.replace(\",\",\"\")\n",
    "new_poem = new_poem.split()\n",
    "\n",
    "# Iterate over the new list and use count function to find the frequency of word at each iteration\n",
    "def freq(poem):\n",
    "    poem2=[]\n",
    "    \n",
    "    for word in poem:\n",
    "        if word not in poem2:\n",
    "            poem2.append(word)\n",
    "    \n",
    "    for word in range(0, len(poem2)):\n",
    "        print(poem2[word], ' - ', poem.count(poem2[word]))\n",
    "        \n",
    "freq_new_poem = freq(new_poem)\n",
    "print(freq_new_poem)\n",
    "\n",
    "## Count frequency of each word in a dictionary \n",
    "# dictOfWords = { i : new_poem[i] for i in range(0, len(new_poem) ) }\n",
    "# print(dictOfWords)"
   ]
  },
  {
   "cell_type": "markdown",
   "metadata": {},
   "source": [
    "In the cell below, find all the words that appear in the text and do not appear in the blacklist. You must parse the string but can choose any data structure you wish for the words that do not appear in the blacklist. Remove all non letter characters and convert all words to lower case."
   ]
  },
  {
   "cell_type": "code",
   "execution_count": 82,
   "metadata": {},
   "outputs": [
    {
     "name": "stdout",
     "output_type": "stream",
     "text": [
      "i was angry with my friend i told my wrath my wrath did end i was angry with my foe i told it not my wrath did grow and i waterd it in fears night morning with my tears and i sunned it with smiles and with soft deceitful wiles and it grew both day and night till it bore an apple bright and my foe beheld it shine and he knew that it was mine and into my garden stole when the night had veild the pole in the morning glad i see my foe outstretched beneath the tree\n",
      "\n",
      "i was angry wh my friend i told my wrath my wrath did end i was angry wh my foe i told  not my wrath did grow and i waterd  in fears night morning wh my tears and i sunned  wh smiles and wh soft deceful wiles and  grew both day and night till  bore an apple bright and my foe beheld  shine and he knew that  was mine and into my garden stole when the night had veild the pole in the morning glad i see my foe outstretched beneath the tree\n"
     ]
    }
   ],
   "source": [
    "blacklist = ['and', 'as', 'an', 'a', 'the', 'in', 'it']\n",
    "\n",
    "poem = \"\"\"I was angry with my friend; \n",
    "I told my wrath, my wrath did end.\n",
    "I was angry with my foe: \n",
    "I told it not, my wrath did grow. \n",
    "\n",
    "And I waterd it in fears,\n",
    "Night & morning with my tears: \n",
    "And I sunned it with smiles,\n",
    "And with soft deceitful wiles. \n",
    "\n",
    "And it grew both day and night. \n",
    "Till it bore an apple bright. \n",
    "And my foe beheld it shine,\n",
    "And he knew that it was mine. \n",
    "\n",
    "And into my garden stole, \n",
    "When the night had veild the pole; \n",
    "In the morning glad I see; \n",
    "My foe outstretched beneath the tree.\"\"\"\n",
    "\n",
    "# Your code here:\n",
    "\n",
    "new_poem = re.sub(\"[^a-zA-Z]+\", \" \", poem).lower()\n",
    "new_poem = new_poem.split()\n",
    "new_poem = ' '.join(new_poem)\n",
    "print(new_poem)\n",
    "\n",
    "print(\"\")\n",
    "\n",
    "new_poem2 = re.sub(\"and\",\"\", new_poem)\n",
    "new_poem2 = re.sub(\"as\",\"\", new_poem)\n",
    "new_poem2 = re.sub(\"an\",\"\", new_poem)\n",
    "new_poem2 = re.sub(\"a\",\"\", new_poem)\n",
    "new_poem2 = re.sub(\"the\",\"\", new_poem)\n",
    "new_poem2 = re.sub(\"in\",\"\", new_poem)\n",
    "new_poem2 = re.sub(\"it\",\"\", new_poem)\n",
    "\n",
    "print(new_poem2)\n"
   ]
  },
  {
   "cell_type": "markdown",
   "metadata": {},
   "source": [
    "# Challenge 3 - Regular Expressions\n",
    "\n",
    "Sometimes, we would like to perform more complex manipulations of our string. This is where regular expressions come in handy. In the cell below, return all characters that are upper case from the string specified below."
   ]
  },
  {
   "cell_type": "code",
   "execution_count": 18,
   "metadata": {},
   "outputs": [
    {
     "name": "stdout",
     "output_type": "stream",
     "text": [
      "['T', 'P']\n"
     ]
    }
   ],
   "source": [
    "poem = \"\"\"The apparition of these faces in the crowd;\n",
    "Petals on a wet, black bough.\"\"\"\n",
    "\n",
    "# Your code here:\n",
    "new_poem = re.findall('[A-Z]', poem)\n",
    "print(new_poem)"
   ]
  },
  {
   "cell_type": "markdown",
   "metadata": {},
   "source": [
    "In the cell below, filter the list provided and return all elements of the list containing a number. To filter the list, use the `re.search` function. Check if the function does not return `None`. You can read more about the `re.search` function [here](https://docs.python.org/3/library/re.html)."
   ]
  },
  {
   "cell_type": "code",
   "execution_count": 75,
   "metadata": {},
   "outputs": [
    {
     "name": "stdout",
     "output_type": "stream",
     "text": [
      "['123abc', 'abc123', 'JohnSmith1', 'ABBY4']\n"
     ]
    }
   ],
   "source": [
    "data = ['123abc', 'abc123', 'JohnSmith1', 'ABBY4', 'JANE']\n",
    "\n",
    "# Your code here:\n",
    "data2 = [x for x in data if re.search('[0-9]', x)]\n",
    "print(data2)"
   ]
  },
  {
   "cell_type": "markdown",
   "metadata": {},
   "source": [
    "### Bonus Challenge - Regular Expressions II\n",
    "\n",
    "In the cell below, filter the list provided to keep only strings containing at least one digit and at least one lower case letter. As in the previous question, use the `re.search` function and check that the result is not `None`.\n",
    "\n",
    "To read more about regular expressions, check out [this link](https://developers.google.com/edu/python/regular-expressions)."
   ]
  },
  {
   "cell_type": "code",
   "execution_count": 77,
   "metadata": {},
   "outputs": [
    {
     "name": "stdout",
     "output_type": "stream",
     "text": [
      "['123abc', 'abc123', 'JohnSmith1']\n"
     ]
    }
   ],
   "source": [
    "data = ['123abc', 'abc123', 'JohnSmith1', 'ABBY4', 'JANE']\n",
    "\n",
    "data2 = [x for x in data if re.search('[0-9]', x) and re.search(\"[a-z]\", x)]\n",
    "print(data2)"
   ]
  },
  {
   "cell_type": "code",
   "execution_count": null,
   "metadata": {},
   "outputs": [],
   "source": []
  }
 ],
 "metadata": {
  "kernelspec": {
   "display_name": "Python 3",
   "language": "python",
   "name": "python3"
  },
  "language_info": {
   "codemirror_mode": {
    "name": "ipython",
    "version": 3
   },
   "file_extension": ".py",
   "mimetype": "text/x-python",
   "name": "python",
   "nbconvert_exporter": "python",
   "pygments_lexer": "ipython3",
   "version": "3.7.6"
  }
 },
 "nbformat": 4,
 "nbformat_minor": 2
}
