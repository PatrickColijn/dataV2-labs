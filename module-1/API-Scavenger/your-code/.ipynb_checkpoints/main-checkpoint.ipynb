{
 "cells": [
  {
   "cell_type": "markdown",
   "metadata": {},
   "source": [
    "# API Scavenger Game\n",
    "\n",
    "## Challenge 1: Fork Languages\n",
    "\n",
    "You will find out how many programming languages are used among all the forks created from the main lab repo of your bootcamp."
   ]
  },
  {
   "cell_type": "code",
   "execution_count": 1,
   "metadata": {},
   "outputs": [],
   "source": [
    "# import libraries here\n",
    "import requests\n",
    "import pandas as pd \n",
    "import numpy as np \n",
    "import json"
   ]
  },
  {
   "cell_type": "markdown",
   "metadata": {},
   "source": [
    "Assuming the main lab repo is ironhack-datalabs/madrid-oct-2018, you will:\n",
    "\n",
    "#### 1. Obtain the full list of forks created from the main lab repo via Github API."
   ]
  },
  {
   "cell_type": "markdown",
   "metadata": {},
   "source": [
    "To list forks, we can use the GET method. As explained in the GitHub API documentation, we need to make the request to: GET /repos/:owner/:repo/forks."
   ]
  },
  {
   "cell_type": "code",
   "execution_count": 25,
   "metadata": {},
   "outputs": [
    {
     "name": "stdout",
     "output_type": "stream",
     "text": [
      "<Response [200]>\n",
      "<Response [200]>\n",
      "<Response [200]>\n",
      "<Response [200]>\n"
     ]
    }
   ],
   "source": [
    "# your code here\n",
    "username = 'PatrickColijn'\n",
    "token = '874f39382109f75ef026164da632a89f84c70162'\n",
    "url_base = 'https://api.github.com/repos/'\n",
    "owner = 'ironhack-datalabs/'\n",
    "repo = 'dataV2-labs/'\n",
    "pagenr = 'forks?page='\n",
    "sublist = []\n",
    "i = 1\n",
    "\n",
    "\n",
    "response = requests.get(url_base + owner + repo + pagenr + str(i), auth=(username,token))\n",
    "response_json = response.json()\n",
    "\n",
    "while len(response_json)>0:\n",
    "    response = requests.get(url_base + owner + repo + pagenr + str(i), auth=(username,token))\n",
    "    print(response)\n",
    "    response_json = response.json()\n",
    "    sublist.append(response_json)\n",
    "    i += 1"
   ]
  },
  {
   "cell_type": "markdown",
   "metadata": {},
   "source": [
    "#### 2. Loop the JSON response to find out the language attribute of each fork. Use an array to store the language attributes of each fork.\n",
    "Hint: Each language should appear only once in your array.\n",
    "Print the language array. It should be something like: [\"Python\", \"Jupyter Notebook\", \"HTML\"]"
   ]
  },
  {
   "cell_type": "code",
   "execution_count": 42,
   "metadata": {},
   "outputs": [
    {
     "name": "stdout",
     "output_type": "stream",
     "text": [
      "The unique languages in the fork are Jupyter Notebook and AGS Script\n"
     ]
    }
   ],
   "source": [
    "# your code here\n",
    "flat_list = [item for element in sublist for item in element]\n",
    "df_GitAPI = pd.DataFrame(flat_list)\n",
    "removed_duplicates = df_GitAPI['language'].dropna().drop_duplicates()\n",
    "print(\"The unique languages in the fork are {} and {}\".format(removed_duplicates.values[0], removed_duplicates.values[1]))\n"
   ]
  },
  {
   "cell_type": "markdown",
   "metadata": {},
   "source": [
    "## Challenge 2: Count Commits\n",
    "Count how many commits were made in the month of october of 2018.\n",
    "#### 1. Obtain all the commits made in October 2018 via API, which is a JSON array that contains multiple commit objects."
   ]
  },
  {
   "cell_type": "code",
   "execution_count": 69,
   "metadata": {},
   "outputs": [
    {
     "name": "stdout",
     "output_type": "stream",
     "text": [
      "<Response [200]>\n",
      "<Response [200]>\n",
      "<Response [200]>\n",
      "<Response [200]>\n",
      "<Response [200]>\n",
      "<Response [200]>\n"
     ]
    },
    {
     "data": {
      "text/plain": [
       "Index(['id', 'node_id', 'name', 'full_name', 'private', 'owner', 'html_url',\n",
       "       'description', 'fork', 'url', 'forks_url', 'keys_url',\n",
       "       'collaborators_url', 'teams_url', 'hooks_url', 'issue_events_url',\n",
       "       'events_url', 'assignees_url', 'branches_url', 'tags_url', 'blobs_url',\n",
       "       'git_tags_url', 'git_refs_url', 'trees_url', 'statuses_url',\n",
       "       'languages_url', 'stargazers_url', 'contributors_url',\n",
       "       'subscribers_url', 'subscription_url', 'commits_url', 'git_commits_url',\n",
       "       'comments_url', 'issue_comment_url', 'contents_url', 'compare_url',\n",
       "       'merges_url', 'archive_url', 'downloads_url', 'issues_url', 'pulls_url',\n",
       "       'milestones_url', 'notifications_url', 'labels_url', 'releases_url',\n",
       "       'deployments_url', 'created_at', 'updated_at', 'pushed_at', 'git_url',\n",
       "       'ssh_url', 'clone_url', 'svn_url', 'homepage', 'size',\n",
       "       'stargazers_count', 'watchers_count', 'language', 'has_issues',\n",
       "       'has_projects', 'has_downloads', 'has_wiki', 'has_pages', 'forks_count',\n",
       "       'mirror_url', 'archived', 'disabled', 'open_issues_count', 'license',\n",
       "       'forks', 'open_issues', 'watchers', 'default_branch', 'permissions',\n",
       "       'sha', 'commit', 'author', 'committer', 'parents'],\n",
       "      dtype='object')"
      ]
     },
     "execution_count": 69,
     "metadata": {},
     "output_type": "execute_result"
    }
   ],
   "source": [
    "# your code here\n",
    "username = 'PatrickColijn'\n",
    "token = '874f39382109f75ef026164da632a89f84c70162'\n",
    "url_base = 'https://api.github.com/repos/'\n",
    "owner = 'ironhack-datalabs/'\n",
    "repo = 'dataV2-labs/'\n",
    "pagenr = 'commits?page='\n",
    "sublist_commits = []\n",
    "i = 1\n",
    "\n",
    "response = requests.get(url_base + owner + repo + pagenr + str(i), auth=(username,token))\n",
    "response_json = response.json()\n",
    "\n",
    "while len(response_json)>0:\n",
    "    response = requests.get(url_base + owner + repo + pagenr + str(i), auth=(username,token))\n",
    "    print(response)\n",
    "    response_json = response.json()\n",
    "    sublist.append(response_json)\n",
    "    i += 1\n",
    "    \n",
    "flat_list = [item for element in sublist for item in element]\n",
    "df_commits = pd.DataFrame(flat_list)\n",
    "df_commits.columns"
   ]
  },
  {
   "cell_type": "code",
   "execution_count": 82,
   "metadata": {},
   "outputs": [
    {
     "data": {
      "text/plain": [
       "0     2020-02-22T13:55:03Z\n",
       "1     2020-02-18T10:41:34Z\n",
       "2     2020-02-18T10:39:06Z\n",
       "3     2020-02-18T10:34:11Z\n",
       "4     2020-02-18T10:32:12Z\n",
       "5     2020-02-18T10:25:43Z\n",
       "6     2020-02-18T10:21:18Z\n",
       "7     2020-02-18T10:20:37Z\n",
       "8     2020-02-18T10:19:37Z\n",
       "9     2020-02-18T10:17:54Z\n",
       "10    2020-02-16T19:55:43Z\n",
       "11    2020-02-12T21:35:25Z\n",
       "12    2020-02-12T21:27:50Z\n",
       "13    2020-02-12T21:17:50Z\n",
       "14    2020-02-12T21:17:45Z\n",
       "15    2020-02-12T21:17:44Z\n",
       "16    2020-02-12T21:17:44Z\n",
       "17    2020-02-12T21:17:44Z\n",
       "18    2020-02-12T21:17:43Z\n",
       "19    2020-02-12T21:16:49Z\n",
       "20    2020-02-12T21:16:42Z\n",
       "21    2020-02-12T20:12:35Z\n",
       "22    2020-02-10T16:40:36Z\n",
       "23    2020-02-04T23:58:37Z\n",
       "24    2020-01-29T18:40:46Z\n",
       "25    2020-01-23T17:05:59Z\n",
       "26    2020-01-21T21:28:45Z\n",
       "27    2020-01-20T08:22:55Z\n",
       "28    2020-01-18T23:54:43Z\n",
       "29    2020-01-17T00:45:33Z\n",
       "30    2020-01-17T00:30:07Z\n",
       "31    2020-01-16T23:46:02Z\n",
       "32    2020-01-16T22:45:09Z\n",
       "33    2020-01-13T14:13:08Z\n",
       "34    2020-01-12T17:34:44Z\n",
       "35    2020-01-10T17:40:49Z\n",
       "36    2020-01-08T21:43:52Z\n",
       "37    2020-01-06T19:45:21Z\n",
       "38    2020-01-06T19:11:21Z\n",
       "39    2020-01-06T12:06:48Z\n",
       "40    2020-01-06T10:45:13Z\n",
       "41    2020-01-06T10:42:43Z\n",
       "42    2020-01-06T10:42:17Z\n",
       "43    2020-01-06T10:42:09Z\n",
       "44    2020-01-06T10:41:36Z\n",
       "45    2020-01-06T10:40:49Z\n",
       "46    2020-01-06T10:40:47Z\n",
       "47    2020-01-06T10:33:45Z\n",
       "48    2019-12-10T11:17:04Z\n",
       "49    2019-12-10T10:54:21Z\n",
       "50    2019-12-10T10:51:39Z\n",
       "51    2019-12-08T19:19:10Z\n",
       "52    2019-11-27T14:52:35Z\n",
       "53    2019-11-27T13:40:08Z\n",
       "54    2019-11-25T17:52:51Z\n",
       "55    2019-11-23T14:59:13Z\n",
       "56    2019-11-23T14:42:20Z\n",
       "57    2019-11-23T14:22:58Z\n",
       "58    2019-11-20T11:23:11Z\n",
       "59    2019-11-20T10:49:18Z\n",
       "Name: created_at, dtype: object"
      ]
     },
     "execution_count": 82,
     "metadata": {},
     "output_type": "execute_result"
    }
   ],
   "source": [
    "df_commits['created_at'].head(60)"
   ]
  },
  {
   "cell_type": "code",
   "execution_count": 70,
   "metadata": {},
   "outputs": [],
   "source": [
    "#re.findall('2018', \n",
    "created_at_array = df_commits['created_at'].dropna().to_numpy()"
   ]
  },
  {
   "cell_type": "code",
   "execution_count": 74,
   "metadata": {},
   "outputs": [
    {
     "data": {
      "text/plain": [
       "array(['2019-10-15T10:08:30Z', '2019-10-15T14:44:46Z',\n",
       "       '2019-10-15T14:45:23Z', '2019-10-16T14:22:25Z',\n",
       "       '2019-10-18T07:53:30Z', '2019-10-22T19:50:38Z',\n",
       "       '2019-10-22T19:50:51Z', '2019-10-22T20:21:38Z',\n",
       "       '2019-10-24T19:05:04Z', '2019-10-24T19:08:59Z',\n",
       "       '2019-10-24T19:15:09Z', '2019-10-27T10:46:58Z',\n",
       "       '2019-10-28T14:56:24Z', '2019-10-29T09:18:01Z',\n",
       "       '2019-10-29T10:11:18Z', '2019-10-29T10:23:08Z',\n",
       "       '2019-10-29T10:33:32Z', '2019-10-29T10:48:40Z',\n",
       "       '2019-10-29T11:28:37Z', '2019-11-01T15:00:59Z',\n",
       "       '2019-11-05T12:49:39Z', '2019-11-05T13:34:12Z',\n",
       "       '2019-11-05T14:28:31Z', '2019-11-20T10:49:18Z',\n",
       "       '2019-11-20T11:23:11Z', '2019-11-23T14:22:58Z',\n",
       "       '2019-11-23T14:42:20Z', '2019-11-23T14:59:13Z',\n",
       "       '2019-11-25T17:52:51Z', '2019-11-27T13:40:08Z',\n",
       "       '2019-11-27T14:52:35Z', '2019-12-08T19:19:10Z',\n",
       "       '2019-12-10T10:51:39Z', '2019-12-10T10:54:21Z',\n",
       "       '2019-12-10T11:17:04Z', '2020-01-06T10:33:45Z',\n",
       "       '2020-01-06T10:40:47Z', '2020-01-06T10:40:49Z',\n",
       "       '2020-01-06T10:41:36Z', '2020-01-06T10:42:09Z',\n",
       "       '2020-01-06T10:42:17Z', '2020-01-06T10:42:43Z',\n",
       "       '2020-01-06T10:45:13Z', '2020-01-06T12:06:48Z',\n",
       "       '2020-01-06T19:11:21Z', '2020-01-06T19:45:21Z',\n",
       "       '2020-01-08T21:43:52Z', '2020-01-10T17:40:49Z',\n",
       "       '2020-01-12T17:34:44Z', '2020-01-13T14:13:08Z',\n",
       "       '2020-01-16T22:45:09Z', '2020-01-16T23:46:02Z',\n",
       "       '2020-01-17T00:30:07Z', '2020-01-17T00:45:33Z',\n",
       "       '2020-01-18T23:54:43Z', '2020-01-20T08:22:55Z',\n",
       "       '2020-01-21T21:28:45Z', '2020-01-23T17:05:59Z',\n",
       "       '2020-01-29T18:40:46Z', '2020-02-04T23:58:37Z',\n",
       "       '2020-02-10T16:40:36Z', '2020-02-12T20:12:35Z',\n",
       "       '2020-02-12T21:16:42Z', '2020-02-12T21:16:49Z',\n",
       "       '2020-02-12T21:17:43Z', '2020-02-12T21:17:44Z',\n",
       "       '2020-02-12T21:17:44Z', '2020-02-12T21:17:44Z',\n",
       "       '2020-02-12T21:17:45Z', '2020-02-12T21:17:50Z',\n",
       "       '2020-02-12T21:27:50Z', '2020-02-12T21:35:25Z',\n",
       "       '2020-02-16T19:55:43Z', '2020-02-18T10:17:54Z',\n",
       "       '2020-02-18T10:19:37Z', '2020-02-18T10:20:37Z',\n",
       "       '2020-02-18T10:21:18Z', '2020-02-18T10:25:43Z',\n",
       "       '2020-02-18T10:32:12Z', '2020-02-18T10:34:11Z',\n",
       "       '2020-02-18T10:39:06Z', '2020-02-18T10:41:34Z',\n",
       "       '2020-02-22T13:55:03Z'], dtype=object)"
      ]
     },
     "execution_count": 74,
     "metadata": {},
     "output_type": "execute_result"
    }
   ],
   "source": [
    "np.sort(created_at_array)"
   ]
  },
  {
   "cell_type": "markdown",
   "metadata": {},
   "source": [
    "#### 2. Count how many commit objects are contained in the array."
   ]
  },
  {
   "cell_type": "code",
   "execution_count": 84,
   "metadata": {},
   "outputs": [
    {
     "name": "stdout",
     "output_type": "stream",
     "text": [
      "There are 83 commits on the repo.\n"
     ]
    }
   ],
   "source": [
    "# your code here\n",
    "print(\"There are {} commits on the repo.\".format(created_at_array.shape[0]))"
   ]
  },
  {
   "cell_type": "markdown",
   "metadata": {},
   "source": [
    "## Challenge 3: Hidden Cold Joke\n",
    "\n",
    "Using Python, call Github API to find out the cold joke contained in the 24 secret files in the following repo:\n",
    "\n",
    "https://github.com/ironhack-datalabs/scavenger\n",
    "\n",
    "The filenames of the secret files contain .scavengerhunt and they are scattered in different directories of this repo. The secret files are named from .0001.scavengerhunt to .0024.scavengerhunt. They are scattered randomly throughout this repo. You need to search for these files by calling the Github API, not searching the local files on your computer.\n",
    "\n",
    "#### 1. Find the secret files."
   ]
  },
  {
   "cell_type": "code",
   "execution_count": 56,
   "metadata": {},
   "outputs": [],
   "source": [
    "# your code here\n",
    "username = 'PatrickColijn'\n",
    "token = '874f39382109f75ef026164da632a89f84c70162'\n",
    "\n",
    "response1 = requests.get('https://api.github.com/repos/ironhack-datalabs/scavenger', auth=(username,token))\n",
    "data1 = pd.DataFrame(response.json())"
   ]
  },
  {
   "cell_type": "markdown",
   "metadata": {},
   "source": [
    "#### 2.  Sort the filenames ascendingly."
   ]
  },
  {
   "cell_type": "code",
   "execution_count": 68,
   "metadata": {},
   "outputs": [
    {
     "name": "stdout",
     "output_type": "stream",
     "text": [
      "Enter keyword[e.g french, german etc]: scavengerhunt\n"
     ]
    }
   ],
   "source": [
    "if __name__ == '__main__':\n",
    "    keyword = input('Enter keyword[e.g french, german etc]: ')"
   ]
  },
  {
   "cell_type": "code",
   "execution_count": 71,
   "metadata": {},
   "outputs": [
    {
     "ename": "AttributeError",
     "evalue": "'str' object has no attribute 'get_rate_limit'",
     "output_type": "error",
     "traceback": [
      "\u001b[0;31m---------------------------------------------------------------------------\u001b[0m",
      "\u001b[0;31mAttributeError\u001b[0m                            Traceback (most recent call last)",
      "\u001b[0;32m<ipython-input-71-acac1f973496>\u001b[0m in \u001b[0;36m<module>\u001b[0;34m\u001b[0m\n\u001b[1;32m     19\u001b[0m         \u001b[0mprint\u001b[0m\u001b[0;34m(\u001b[0m\u001b[0;34mf'{file.download_url}'\u001b[0m\u001b[0;34m)\u001b[0m\u001b[0;34m\u001b[0m\u001b[0;34m\u001b[0m\u001b[0m\n\u001b[1;32m     20\u001b[0m \u001b[0;34m\u001b[0m\u001b[0m\n\u001b[0;32m---> 21\u001b[0;31m \u001b[0msearch_github\u001b[0m\u001b[0;34m(\u001b[0m\u001b[0mkeyword\u001b[0m\u001b[0;34m)\u001b[0m\u001b[0;34m\u001b[0m\u001b[0;34m\u001b[0m\u001b[0m\n\u001b[0m",
      "\u001b[0;32m<ipython-input-71-acac1f973496>\u001b[0m in \u001b[0;36msearch_github\u001b[0;34m(keyword)\u001b[0m\n\u001b[1;32m      1\u001b[0m \u001b[0;32mdef\u001b[0m \u001b[0msearch_github\u001b[0m\u001b[0;34m(\u001b[0m\u001b[0mkeyword\u001b[0m\u001b[0;34m)\u001b[0m\u001b[0;34m:\u001b[0m\u001b[0;34m\u001b[0m\u001b[0;34m\u001b[0m\u001b[0m\n\u001b[0;32m----> 2\u001b[0;31m     \u001b[0mrate_limit\u001b[0m \u001b[0;34m=\u001b[0m \u001b[0mtoken\u001b[0m\u001b[0;34m.\u001b[0m\u001b[0mget_rate_limit\u001b[0m\u001b[0;34m(\u001b[0m\u001b[0;34m)\u001b[0m\u001b[0;34m\u001b[0m\u001b[0;34m\u001b[0m\u001b[0m\n\u001b[0m\u001b[1;32m      3\u001b[0m     \u001b[0mrate\u001b[0m \u001b[0;34m=\u001b[0m \u001b[0mrate_limit\u001b[0m\u001b[0;34m.\u001b[0m\u001b[0msearch\u001b[0m\u001b[0;34m\u001b[0m\u001b[0;34m\u001b[0m\u001b[0m\n\u001b[1;32m      4\u001b[0m     \u001b[0;32mif\u001b[0m \u001b[0mrate\u001b[0m\u001b[0;34m.\u001b[0m\u001b[0mremaining\u001b[0m \u001b[0;34m==\u001b[0m \u001b[0;36m0\u001b[0m\u001b[0;34m:\u001b[0m\u001b[0;34m\u001b[0m\u001b[0;34m\u001b[0m\u001b[0m\n\u001b[1;32m      5\u001b[0m         \u001b[0mprint\u001b[0m\u001b[0;34m(\u001b[0m\u001b[0;34mf'You have 0/{rate.limit} API calls remaining. Reset time: {rate.reset}'\u001b[0m\u001b[0;34m)\u001b[0m\u001b[0;34m\u001b[0m\u001b[0;34m\u001b[0m\u001b[0m\n",
      "\u001b[0;31mAttributeError\u001b[0m: 'str' object has no attribute 'get_rate_limit'"
     ]
    }
   ],
   "source": []
  },
  {
   "cell_type": "code",
   "execution_count": 66,
   "metadata": {},
   "outputs": [
    {
     "data": {
      "text/html": [
       "<div>\n",
       "<style scoped>\n",
       "    .dataframe tbody tr th:only-of-type {\n",
       "        vertical-align: middle;\n",
       "    }\n",
       "\n",
       "    .dataframe tbody tr th {\n",
       "        vertical-align: top;\n",
       "    }\n",
       "\n",
       "    .dataframe thead th {\n",
       "        text-align: right;\n",
       "    }\n",
       "</style>\n",
       "<table border=\"1\" class=\"dataframe\">\n",
       "  <thead>\n",
       "    <tr style=\"text-align: right;\">\n",
       "      <th></th>\n",
       "      <th>id</th>\n",
       "      <th>node_id</th>\n",
       "      <th>name</th>\n",
       "      <th>full_name</th>\n",
       "      <th>private</th>\n",
       "      <th>owner</th>\n",
       "      <th>html_url</th>\n",
       "      <th>description</th>\n",
       "      <th>fork</th>\n",
       "      <th>url</th>\n",
       "      <th>...</th>\n",
       "      <th>mirror_url</th>\n",
       "      <th>archived</th>\n",
       "      <th>disabled</th>\n",
       "      <th>open_issues_count</th>\n",
       "      <th>license</th>\n",
       "      <th>forks</th>\n",
       "      <th>open_issues</th>\n",
       "      <th>watchers</th>\n",
       "      <th>default_branch</th>\n",
       "      <th>permissions</th>\n",
       "    </tr>\n",
       "  </thead>\n",
       "  <tbody>\n",
       "    <tr>\n",
       "      <td>0</td>\n",
       "      <td>242350251</td>\n",
       "      <td>MDEwOlJlcG9zaXRvcnkyNDIzNTAyNTE=</td>\n",
       "      <td>dataV2-labs</td>\n",
       "      <td>ta-data-lis/dataV2-labs</td>\n",
       "      <td>False</td>\n",
       "      <td>{'login': 'ta-data-lis', 'id': 54109907, 'node...</td>\n",
       "      <td>https://github.com/ta-data-lis/dataV2-labs</td>\n",
       "      <td>None</td>\n",
       "      <td>True</td>\n",
       "      <td>https://api.github.com/repos/ta-data-lis/dataV...</td>\n",
       "      <td>...</td>\n",
       "      <td>None</td>\n",
       "      <td>False</td>\n",
       "      <td>False</td>\n",
       "      <td>0</td>\n",
       "      <td>None</td>\n",
       "      <td>0</td>\n",
       "      <td>0</td>\n",
       "      <td>0</td>\n",
       "      <td>master</td>\n",
       "      <td>{'admin': False, 'push': False, 'pull': True}</td>\n",
       "    </tr>\n",
       "    <tr>\n",
       "      <td>1</td>\n",
       "      <td>241335460</td>\n",
       "      <td>MDEwOlJlcG9zaXRvcnkyNDEzMzU0NjA=</td>\n",
       "      <td>dataV2-labs</td>\n",
       "      <td>pmoreira1/dataV2-labs</td>\n",
       "      <td>False</td>\n",
       "      <td>{'login': 'pmoreira1', 'id': 22530149, 'node_i...</td>\n",
       "      <td>https://github.com/pmoreira1/dataV2-labs</td>\n",
       "      <td>Work done during Ironhack Data analytics bootcamp</td>\n",
       "      <td>True</td>\n",
       "      <td>https://api.github.com/repos/pmoreira1/dataV2-...</td>\n",
       "      <td>...</td>\n",
       "      <td>None</td>\n",
       "      <td>False</td>\n",
       "      <td>False</td>\n",
       "      <td>0</td>\n",
       "      <td>None</td>\n",
       "      <td>0</td>\n",
       "      <td>0</td>\n",
       "      <td>0</td>\n",
       "      <td>master</td>\n",
       "      <td>{'admin': False, 'push': False, 'pull': True}</td>\n",
       "    </tr>\n",
       "    <tr>\n",
       "      <td>2</td>\n",
       "      <td>241335029</td>\n",
       "      <td>MDEwOlJlcG9zaXRvcnkyNDEzMzUwMjk=</td>\n",
       "      <td>dataV2-labs</td>\n",
       "      <td>mazzoal/dataV2-labs</td>\n",
       "      <td>False</td>\n",
       "      <td>{'login': 'mazzoal', 'id': 60705285, 'node_id'...</td>\n",
       "      <td>https://github.com/mazzoal/dataV2-labs</td>\n",
       "      <td>None</td>\n",
       "      <td>True</td>\n",
       "      <td>https://api.github.com/repos/mazzoal/dataV2-labs</td>\n",
       "      <td>...</td>\n",
       "      <td>None</td>\n",
       "      <td>False</td>\n",
       "      <td>False</td>\n",
       "      <td>0</td>\n",
       "      <td>None</td>\n",
       "      <td>0</td>\n",
       "      <td>0</td>\n",
       "      <td>0</td>\n",
       "      <td>master</td>\n",
       "      <td>{'admin': False, 'push': False, 'pull': True}</td>\n",
       "    </tr>\n",
       "    <tr>\n",
       "      <td>3</td>\n",
       "      <td>241334117</td>\n",
       "      <td>MDEwOlJlcG9zaXRvcnkyNDEzMzQxMTc=</td>\n",
       "      <td>dataV2-labs</td>\n",
       "      <td>c-cle/dataV2-labs</td>\n",
       "      <td>False</td>\n",
       "      <td>{'login': 'c-cle', 'id': 58886069, 'node_id': ...</td>\n",
       "      <td>https://github.com/c-cle/dataV2-labs</td>\n",
       "      <td>None</td>\n",
       "      <td>True</td>\n",
       "      <td>https://api.github.com/repos/c-cle/dataV2-labs</td>\n",
       "      <td>...</td>\n",
       "      <td>None</td>\n",
       "      <td>False</td>\n",
       "      <td>False</td>\n",
       "      <td>0</td>\n",
       "      <td>None</td>\n",
       "      <td>0</td>\n",
       "      <td>0</td>\n",
       "      <td>0</td>\n",
       "      <td>master</td>\n",
       "      <td>{'admin': False, 'push': False, 'pull': True}</td>\n",
       "    </tr>\n",
       "    <tr>\n",
       "      <td>4</td>\n",
       "      <td>241333755</td>\n",
       "      <td>MDEwOlJlcG9zaXRvcnkyNDEzMzM3NTU=</td>\n",
       "      <td>dataV2-labs</td>\n",
       "      <td>ReneRaube/dataV2-labs</td>\n",
       "      <td>False</td>\n",
       "      <td>{'login': 'ReneRaube', 'id': 60393329, 'node_i...</td>\n",
       "      <td>https://github.com/ReneRaube/dataV2-labs</td>\n",
       "      <td>None</td>\n",
       "      <td>True</td>\n",
       "      <td>https://api.github.com/repos/ReneRaube/dataV2-...</td>\n",
       "      <td>...</td>\n",
       "      <td>None</td>\n",
       "      <td>False</td>\n",
       "      <td>False</td>\n",
       "      <td>0</td>\n",
       "      <td>None</td>\n",
       "      <td>0</td>\n",
       "      <td>0</td>\n",
       "      <td>0</td>\n",
       "      <td>master</td>\n",
       "      <td>{'admin': False, 'push': False, 'pull': True}</td>\n",
       "    </tr>\n",
       "  </tbody>\n",
       "</table>\n",
       "<p>5 rows × 74 columns</p>\n",
       "</div>"
      ],
      "text/plain": [
       "          id                           node_id         name  \\\n",
       "0  242350251  MDEwOlJlcG9zaXRvcnkyNDIzNTAyNTE=  dataV2-labs   \n",
       "1  241335460  MDEwOlJlcG9zaXRvcnkyNDEzMzU0NjA=  dataV2-labs   \n",
       "2  241335029  MDEwOlJlcG9zaXRvcnkyNDEzMzUwMjk=  dataV2-labs   \n",
       "3  241334117  MDEwOlJlcG9zaXRvcnkyNDEzMzQxMTc=  dataV2-labs   \n",
       "4  241333755  MDEwOlJlcG9zaXRvcnkyNDEzMzM3NTU=  dataV2-labs   \n",
       "\n",
       "                 full_name  private  \\\n",
       "0  ta-data-lis/dataV2-labs    False   \n",
       "1    pmoreira1/dataV2-labs    False   \n",
       "2      mazzoal/dataV2-labs    False   \n",
       "3        c-cle/dataV2-labs    False   \n",
       "4    ReneRaube/dataV2-labs    False   \n",
       "\n",
       "                                               owner  \\\n",
       "0  {'login': 'ta-data-lis', 'id': 54109907, 'node...   \n",
       "1  {'login': 'pmoreira1', 'id': 22530149, 'node_i...   \n",
       "2  {'login': 'mazzoal', 'id': 60705285, 'node_id'...   \n",
       "3  {'login': 'c-cle', 'id': 58886069, 'node_id': ...   \n",
       "4  {'login': 'ReneRaube', 'id': 60393329, 'node_i...   \n",
       "\n",
       "                                     html_url  \\\n",
       "0  https://github.com/ta-data-lis/dataV2-labs   \n",
       "1    https://github.com/pmoreira1/dataV2-labs   \n",
       "2      https://github.com/mazzoal/dataV2-labs   \n",
       "3        https://github.com/c-cle/dataV2-labs   \n",
       "4    https://github.com/ReneRaube/dataV2-labs   \n",
       "\n",
       "                                         description  fork  \\\n",
       "0                                               None  True   \n",
       "1  Work done during Ironhack Data analytics bootcamp  True   \n",
       "2                                               None  True   \n",
       "3                                               None  True   \n",
       "4                                               None  True   \n",
       "\n",
       "                                                 url  ... mirror_url archived  \\\n",
       "0  https://api.github.com/repos/ta-data-lis/dataV...  ...       None    False   \n",
       "1  https://api.github.com/repos/pmoreira1/dataV2-...  ...       None    False   \n",
       "2   https://api.github.com/repos/mazzoal/dataV2-labs  ...       None    False   \n",
       "3     https://api.github.com/repos/c-cle/dataV2-labs  ...       None    False   \n",
       "4  https://api.github.com/repos/ReneRaube/dataV2-...  ...       None    False   \n",
       "\n",
       "  disabled open_issues_count license forks open_issues watchers  \\\n",
       "0    False                 0    None     0           0        0   \n",
       "1    False                 0    None     0           0        0   \n",
       "2    False                 0    None     0           0        0   \n",
       "3    False                 0    None     0           0        0   \n",
       "4    False                 0    None     0           0        0   \n",
       "\n",
       "  default_branch                                    permissions  \n",
       "0         master  {'admin': False, 'push': False, 'pull': True}  \n",
       "1         master  {'admin': False, 'push': False, 'pull': True}  \n",
       "2         master  {'admin': False, 'push': False, 'pull': True}  \n",
       "3         master  {'admin': False, 'push': False, 'pull': True}  \n",
       "4         master  {'admin': False, 'push': False, 'pull': True}  \n",
       "\n",
       "[5 rows x 74 columns]"
      ]
     },
     "execution_count": 66,
     "metadata": {},
     "output_type": "execute_result"
    }
   ],
   "source": [
    "# your code here\n",
    "data1.columns\n",
    "data1.head()"
   ]
  },
  {
   "cell_type": "code",
   "execution_count": null,
   "metadata": {},
   "outputs": [],
   "source": []
  },
  {
   "cell_type": "markdown",
   "metadata": {},
   "source": [
    "#### 3. Read the content of each secret files into an array of strings.\n",
    "Since the response is encoded, you will need to send the following information in the header of your request:\n",
    "````python\n",
    "headers = {'Accept': 'application/vnd.github.v3.raw'}\n",
    "````"
   ]
  },
  {
   "cell_type": "code",
   "execution_count": null,
   "metadata": {},
   "outputs": [],
   "source": [
    "# your code here"
   ]
  },
  {
   "cell_type": "markdown",
   "metadata": {},
   "source": [
    "#### 4. Concatenate the strings in the array separating each two with a whitespace."
   ]
  },
  {
   "cell_type": "code",
   "execution_count": null,
   "metadata": {},
   "outputs": [],
   "source": [
    "# your code here"
   ]
  },
  {
   "cell_type": "markdown",
   "metadata": {},
   "source": [
    "#### 5. Print out the joke."
   ]
  },
  {
   "cell_type": "code",
   "execution_count": null,
   "metadata": {},
   "outputs": [],
   "source": [
    "# your code here"
   ]
  }
 ],
 "metadata": {
  "kernelspec": {
   "display_name": "Python 3",
   "language": "python",
   "name": "python3"
  },
  "language_info": {
   "codemirror_mode": {
    "name": "ipython",
    "version": 3
   },
   "file_extension": ".py",
   "mimetype": "text/x-python",
   "name": "python",
   "nbconvert_exporter": "python",
   "pygments_lexer": "ipython3",
   "version": "3.7.4"
  }
 },
 "nbformat": 4,
 "nbformat_minor": 2
}
