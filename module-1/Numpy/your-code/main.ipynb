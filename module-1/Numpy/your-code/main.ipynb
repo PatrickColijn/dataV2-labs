{
 "cells": [
  {
   "cell_type": "markdown",
   "metadata": {},
   "source": [
    "# Introduction to NumPy\n",
    "\n",
    "\n",
    "#### 1. Import NumPy under the name np."
   ]
  },
  {
   "cell_type": "code",
   "execution_count": 1,
   "metadata": {},
   "outputs": [],
   "source": [
    "# your code here\n",
    "import numpy as np"
   ]
  },
  {
   "cell_type": "markdown",
   "metadata": {},
   "source": [
    "#### 2. Print your NumPy version."
   ]
  },
  {
   "cell_type": "code",
   "execution_count": 4,
   "metadata": {},
   "outputs": [
    {
     "name": "stdout",
     "output_type": "stream",
     "text": [
      "1.17.2\n"
     ]
    }
   ],
   "source": [
    "# your code here\n",
    "print(np.__version__)"
   ]
  },
  {
   "cell_type": "markdown",
   "metadata": {},
   "source": [
    "#### 3. Generate a 2x3x5 3-dimensional array with random values. Assign the array to variable *a*.\n",
    "**Challenge**: there are at least three easy ways that use numpy to generate random arrays. How many ways can you find?"
   ]
  },
  {
   "cell_type": "code",
   "execution_count": 25,
   "metadata": {},
   "outputs": [
    {
     "name": "stdout",
     "output_type": "stream",
     "text": [
      "[[[0.34575188 0.26608668 0.95320114 0.89786922 0.94694698]\n",
      "  [0.75025068 0.49434714 0.47629938 0.33048017 0.41176912]\n",
      "  [0.88017246 0.63231255 0.27634783 0.15778752 0.75280717]]\n",
      "\n",
      " [[0.91461337 0.3754744  0.19665839 0.42493056 0.50021816]\n",
      "  [0.17046312 0.71724797 0.65837814 0.92868795 0.73420252]\n",
      "  [0.92249092 0.70633985 0.87643428 0.85871945 0.50844353]]]\n"
     ]
    }
   ],
   "source": [
    "# Method 1\n",
    "a = np.random.random((2,3,5))\n",
    "print(a)"
   ]
  },
  {
   "cell_type": "code",
   "execution_count": 13,
   "metadata": {},
   "outputs": [
    {
     "name": "stdout",
     "output_type": "stream",
     "text": [
      "[[[4 2 3 2 4]\n",
      "  [5 7 5 9 2]\n",
      "  [2 0 6 5 7]]\n",
      "\n",
      " [[9 1 8 0 7]\n",
      "  [6 1 0 3 2]\n",
      "  [0 9 2 3 7]]]\n"
     ]
    }
   ],
   "source": [
    "# Method 2\n",
    "a = np.random.randint(10, size=(2, 3, 5))\n",
    "print(a)"
   ]
  },
  {
   "cell_type": "code",
   "execution_count": 17,
   "metadata": {},
   "outputs": [
    {
     "name": "stdout",
     "output_type": "stream",
     "text": [
      "[[[4 2 3 2 4]\n",
      "  [5 7 5 9 2]\n",
      "  [2 0 6 5 7]]\n",
      "\n",
      " [[9 1 8 0 7]\n",
      "  [6 1 0 3 2]\n",
      "  [0 9 2 3 7]]]\n"
     ]
    }
   ],
   "source": [
    "# Method 3\n",
    "a = np.array([[[4, 2, 3, 2, 4],\n",
    "               [5, 7, 5, 9, 2],\n",
    "               [2, 0, 6, 5, 7]],\n",
    "\n",
    "             [[9, 1, 8, 0, 7],\n",
    "              [6, 1, 0, 3, 2],\n",
    "              [0, 9, 2, 3, 7]]])\n",
    "print(a)"
   ]
  },
  {
   "cell_type": "markdown",
   "metadata": {},
   "source": [
    "#### 4. Print *a*.\n"
   ]
  },
  {
   "cell_type": "code",
   "execution_count": 26,
   "metadata": {},
   "outputs": [
    {
     "name": "stdout",
     "output_type": "stream",
     "text": [
      "[[[0.34575188 0.26608668 0.95320114 0.89786922 0.94694698]\n",
      "  [0.75025068 0.49434714 0.47629938 0.33048017 0.41176912]\n",
      "  [0.88017246 0.63231255 0.27634783 0.15778752 0.75280717]]\n",
      "\n",
      " [[0.91461337 0.3754744  0.19665839 0.42493056 0.50021816]\n",
      "  [0.17046312 0.71724797 0.65837814 0.92868795 0.73420252]\n",
      "  [0.92249092 0.70633985 0.87643428 0.85871945 0.50844353]]]\n"
     ]
    }
   ],
   "source": [
    "# your code here\n",
    "print(a)"
   ]
  },
  {
   "cell_type": "markdown",
   "metadata": {},
   "source": [
    "#### 5. Create a 5x2x3 3-dimensional array with all values equaling 1. Assign the array to variable *b*."
   ]
  },
  {
   "cell_type": "code",
   "execution_count": 23,
   "metadata": {},
   "outputs": [
    {
     "name": "stdout",
     "output_type": "stream",
     "text": [
      "Matrix a : \n",
      " [[[1 1 1]\n",
      "  [1 1 1]]\n",
      "\n",
      " [[1 1 1]\n",
      "  [1 1 1]]\n",
      "\n",
      " [[1 1 1]\n",
      "  [1 1 1]]\n",
      "\n",
      " [[1 1 1]\n",
      "  [1 1 1]]\n",
      "\n",
      " [[1 1 1]\n",
      "  [1 1 1]]]\n"
     ]
    }
   ],
   "source": [
    "# your code here\n",
    "b = np.ones((5, 2, 3), dtype = int)  \n",
    "print(\"Matrix b : \\n\", b)  "
   ]
  },
  {
   "cell_type": "markdown",
   "metadata": {},
   "source": [
    "#### 6. Print *b*.\n"
   ]
  },
  {
   "cell_type": "code",
   "execution_count": 27,
   "metadata": {},
   "outputs": [
    {
     "name": "stdout",
     "output_type": "stream",
     "text": [
      "[[[1 1 1]\n",
      "  [1 1 1]]\n",
      "\n",
      " [[1 1 1]\n",
      "  [1 1 1]]\n",
      "\n",
      " [[1 1 1]\n",
      "  [1 1 1]]\n",
      "\n",
      " [[1 1 1]\n",
      "  [1 1 1]]\n",
      "\n",
      " [[1 1 1]\n",
      "  [1 1 1]]]\n"
     ]
    }
   ],
   "source": [
    "# your code here\n",
    "print(b)"
   ]
  },
  {
   "cell_type": "markdown",
   "metadata": {},
   "source": [
    "#### 7. Do *a* and *b* have the same size? How do you prove that in Python code?"
   ]
  },
  {
   "cell_type": "code",
   "execution_count": 30,
   "metadata": {},
   "outputs": [
    {
     "name": "stdout",
     "output_type": "stream",
     "text": [
      "2\n",
      "5\n"
     ]
    },
    {
     "data": {
      "text/plain": [
       "False"
      ]
     },
     "execution_count": 30,
     "metadata": {},
     "output_type": "execute_result"
    }
   ],
   "source": [
    "# your code here\n",
    "print(len(a))\n",
    "print(len(b))\n",
    "len(a) == len(b)"
   ]
  },
  {
   "cell_type": "markdown",
   "metadata": {},
   "source": [
    "#### 8. Are you able to add *a* and *b*? Why or why not?\n"
   ]
  },
  {
   "cell_type": "code",
   "execution_count": 34,
   "metadata": {},
   "outputs": [
    {
     "name": "stdout",
     "output_type": "stream",
     "text": [
      "(2, 3, 5)\n",
      "(5, 2, 3)\n"
     ]
    },
    {
     "ename": "ValueError",
     "evalue": "operands could not be broadcast together with shapes (2,3,5) (5,2,3) ",
     "output_type": "error",
     "traceback": [
      "\u001b[0;31m---------------------------------------------------------------------------\u001b[0m",
      "\u001b[0;31mValueError\u001b[0m                                Traceback (most recent call last)",
      "\u001b[0;32m<ipython-input-34-92c3f7fffec3>\u001b[0m in \u001b[0;36m<module>\u001b[0;34m\u001b[0m\n\u001b[1;32m      3\u001b[0m \u001b[0mprint\u001b[0m\u001b[0;34m(\u001b[0m\u001b[0mb\u001b[0m\u001b[0;34m.\u001b[0m\u001b[0mshape\u001b[0m\u001b[0;34m)\u001b[0m\u001b[0;34m\u001b[0m\u001b[0;34m\u001b[0m\u001b[0m\n\u001b[1;32m      4\u001b[0m \u001b[0;34m\u001b[0m\u001b[0m\n\u001b[0;32m----> 5\u001b[0;31m \u001b[0mprint\u001b[0m\u001b[0;34m(\u001b[0m\u001b[0ma\u001b[0m \u001b[0;34m+\u001b[0m \u001b[0mb\u001b[0m\u001b[0;34m)\u001b[0m\u001b[0;34m\u001b[0m\u001b[0;34m\u001b[0m\u001b[0m\n\u001b[0m\u001b[1;32m      6\u001b[0m \u001b[0;34m\u001b[0m\u001b[0m\n\u001b[1;32m      7\u001b[0m \u001b[0;34m'''Shapes are not similar so it is not possible to do add the arrays'''\u001b[0m\u001b[0;34m\u001b[0m\u001b[0;34m\u001b[0m\u001b[0m\n",
      "\u001b[0;31mValueError\u001b[0m: operands could not be broadcast together with shapes (2,3,5) (5,2,3) "
     ]
    }
   ],
   "source": [
    "# your answer here\n",
    "print(a.shape)\n",
    "print(b.shape)\n",
    "\n",
    "print(a + b)\n",
    "\n",
    "'''Shapes are not similar so it is not possible to do add the arrays'''"
   ]
  },
  {
   "cell_type": "markdown",
   "metadata": {},
   "source": [
    "#### 9. Transpose *b* so that it has the same structure of *a* (i.e. become a 2x3x5 array). Assign the transposed array to variable *c*."
   ]
  },
  {
   "cell_type": "code",
   "execution_count": 40,
   "metadata": {},
   "outputs": [
    {
     "name": "stdout",
     "output_type": "stream",
     "text": [
      "[[[1 1 1]\n",
      "  [1 1 1]]\n",
      "\n",
      " [[1 1 1]\n",
      "  [1 1 1]]\n",
      "\n",
      " [[1 1 1]\n",
      "  [1 1 1]]\n",
      "\n",
      " [[1 1 1]\n",
      "  [1 1 1]]\n",
      "\n",
      " [[1 1 1]\n",
      "  [1 1 1]]]\n",
      "\n",
      "[[[1 1 1 1 1]\n",
      "  [1 1 1 1 1]\n",
      "  [1 1 1 1 1]]\n",
      "\n",
      " [[1 1 1 1 1]\n",
      "  [1 1 1 1 1]\n",
      "  [1 1 1 1 1]]]\n"
     ]
    }
   ],
   "source": [
    "# your code here\n",
    "c = b.reshape(2, 3, 5)\n",
    "print(b)\n",
    "print(\"\")\n",
    "print(c)"
   ]
  },
  {
   "cell_type": "markdown",
   "metadata": {},
   "source": [
    "#### 10. Try to add *a* and *c*. Now it should work. Assign the sum to variable *d*. But why does it work now?"
   ]
  },
  {
   "cell_type": "code",
   "execution_count": 41,
   "metadata": {},
   "outputs": [],
   "source": [
    "# your code/answer here\n",
    "d = a + c"
   ]
  },
  {
   "cell_type": "markdown",
   "metadata": {},
   "source": [
    "#### 11. Print *a* and *d*. Notice the difference and relation of the two array in terms of the values? Explain."
   ]
  },
  {
   "cell_type": "code",
   "execution_count": 42,
   "metadata": {},
   "outputs": [
    {
     "name": "stdout",
     "output_type": "stream",
     "text": [
      "[[[0.34575188 0.26608668 0.95320114 0.89786922 0.94694698]\n",
      "  [0.75025068 0.49434714 0.47629938 0.33048017 0.41176912]\n",
      "  [0.88017246 0.63231255 0.27634783 0.15778752 0.75280717]]\n",
      "\n",
      " [[0.91461337 0.3754744  0.19665839 0.42493056 0.50021816]\n",
      "  [0.17046312 0.71724797 0.65837814 0.92868795 0.73420252]\n",
      "  [0.92249092 0.70633985 0.87643428 0.85871945 0.50844353]]]\n",
      "\n",
      "[[[1.34575188 1.26608668 1.95320114 1.89786922 1.94694698]\n",
      "  [1.75025068 1.49434714 1.47629938 1.33048017 1.41176912]\n",
      "  [1.88017246 1.63231255 1.27634783 1.15778752 1.75280717]]\n",
      "\n",
      " [[1.91461337 1.3754744  1.19665839 1.42493056 1.50021816]\n",
      "  [1.17046312 1.71724797 1.65837814 1.92868795 1.73420252]\n",
      "  [1.92249092 1.70633985 1.87643428 1.85871945 1.50844353]]]\n"
     ]
    }
   ],
   "source": [
    "# your code/answer here\n",
    "print(a)\n",
    "print(\"\")\n",
    "print(d)"
   ]
  },
  {
   "cell_type": "markdown",
   "metadata": {},
   "source": [
    "#### 12. Multiply *a* and *c*. Assign the result to *e*."
   ]
  },
  {
   "cell_type": "code",
   "execution_count": 43,
   "metadata": {},
   "outputs": [],
   "source": [
    "# your code here\n",
    "e = a * c"
   ]
  },
  {
   "cell_type": "markdown",
   "metadata": {},
   "source": [
    "#### 13. Does *e* equal to *a*? Why or why not?\n"
   ]
  },
  {
   "cell_type": "code",
   "execution_count": 50,
   "metadata": {},
   "outputs": [
    {
     "name": "stdout",
     "output_type": "stream",
     "text": [
      "[[[ True  True  True  True  True]\n",
      "  [ True  True  True  True  True]\n",
      "  [ True  True  True  True  True]]\n",
      "\n",
      " [[ True  True  True  True  True]\n",
      "  [ True  True  True  True  True]\n",
      "  [ True  True  True  True  True]]]\n",
      "lenght of array is equal: True\n"
     ]
    }
   ],
   "source": [
    "# your code/answer here\n",
    "print(e == a)\n",
    "print(\"lenght of array is equal:\", len(e) == len(a))"
   ]
  },
  {
   "cell_type": "markdown",
   "metadata": {},
   "source": [
    "#### 14. Identify the max, min, and mean values in *d*. Assign those values to variables *d_max*, *d_min* and *d_mean*."
   ]
  },
  {
   "cell_type": "code",
   "execution_count": 58,
   "metadata": {},
   "outputs": [
    {
     "name": "stdout",
     "output_type": "stream",
     "text": [
      "Max: 1.9532011431019494, Min: 1.1577875245235618, Mean: 1.6021910843187248\n"
     ]
    }
   ],
   "source": [
    "# your code here\n",
    "d_max = np.max(d)\n",
    "d_min = np.min(d)\n",
    "d_mean = np.mean(d)\n",
    "\n",
    "print(\"Max: {}, Min: {}, Mean: {}\".format(d_max, d_min, d_mean))"
   ]
  },
  {
   "cell_type": "markdown",
   "metadata": {},
   "source": [
    "#### 15. Now we want to label the values in *d*. First create an empty array *f* with the same shape (i.e. 2x3x5) as *d* using `np.empty`.\n"
   ]
  },
  {
   "cell_type": "code",
   "execution_count": 120,
   "metadata": {},
   "outputs": [
    {
     "name": "stdout",
     "output_type": "stream",
     "text": [
      "[[[ 25.  25. 100.  75.  75.]\n",
      "  [ 75.  25.  25.  25.  25.]\n",
      "  [ 75.  75.  25.   0.  75.]]\n",
      "\n",
      " [[ 75.  25.  25.  25.  25.]\n",
      "  [ 25.  75.  75.  75.  75.]\n",
      "  [ 75.  75.  75.  75.  25.]]]\n"
     ]
    }
   ],
   "source": [
    "# your code here\n",
    "f = np.empty((2,3,5))\n",
    "print(f)"
   ]
  },
  {
   "cell_type": "markdown",
   "metadata": {},
   "source": [
    "#### 16. Populate the values in *f*. \n",
    "\n",
    "For each value in *d*, if it's larger than *d_min* but smaller than *d_mean*, assign 25 to the corresponding value in *f*. If a value in *d* is larger than *d_mean* but smaller than *d_max*, assign 75 to the corresponding value in *f*. If a value equals to *d_mean*, assign 50 to the corresponding value in *f*. Assign 0 to the corresponding value(s) in *f* for *d_min* in *d*. Assign 100 to the corresponding value(s) in *f* for *d_max* in *d*. In the end, f should have only the following values: 0, 25, 50, 75, and 100.\n",
    "\n",
    "**Note**: you don't have to use Numpy in this question."
   ]
  },
  {
   "cell_type": "code",
   "execution_count": 115,
   "metadata": {},
   "outputs": [
    {
     "name": "stdout",
     "output_type": "stream",
     "text": [
      "[[[ 25.  25. 100.  75.  75.]\n",
      "  [ 75.  25.  25.  25.  25.]\n",
      "  [ 75.  75.  25.   0.  75.]]\n",
      "\n",
      " [[ 75.  25.  25.  25.  25.]\n",
      "  [ 25.  75.  75.  75.  75.]\n",
      "  [ 75.  75.  75.  75.  25.]]]\n"
     ]
    }
   ],
   "source": [
    "# your code here\n",
    "\n",
    "shape = f.shape\n",
    "\n",
    "for x in range(shape[0]):\n",
    "    for y in range(shape[1]):\n",
    "        for z in range(shape[2]):\n",
    "            if d[x, y, z] > d_min and d[x, y, z] < d_mean:\n",
    "                f[x, y, z] = 25\n",
    "            elif d[x, y, z] > d_mean and d[x, y, z] <d_max:\n",
    "                f[x, y, z] = 75\n",
    "            elif d[x, y, z] == d_mean:\n",
    "                f[x, y, z] = 50\n",
    "            elif d[x, y, z] == d_min:\n",
    "                f[x, y, z] = 0\n",
    "            elif d[x, y, z] == d_max:\n",
    "                f[x, y, z] = 100\n",
    "\n",
    "print(f)"
   ]
  },
  {
   "cell_type": "markdown",
   "metadata": {},
   "source": [
    "#### 17. Print *d* and *f*. Do you have your expected *f*?\n",
    "For instance, if your *d* is:\n",
    "```python\n",
    "[[[1.85836099, 1.67064465, 1.62576044, 1.40243961, 1.88454931],\n",
    "[1.75354326, 1.69403643, 1.36729252, 1.61415071, 1.12104981],\n",
    "[1.72201435, 1.1862918 , 1.87078449, 1.7726778 , 1.88180042]],\n",
    "[[1.44747908, 1.31673383, 1.02000951, 1.52218947, 1.97066381],\n",
    "[1.79129243, 1.74983003, 1.96028037, 1.85166831, 1.65450881],\n",
    "[1.18068344, 1.9587381 , 1.00656599, 1.93402165, 1.73514584]]]\n",
    "```\n",
    "Your *f* should be:\n",
    "```python\n",
    "[[[ 75.,  75.,  75.,  25.,  75.],\n",
    "[ 75.,  75.,  25.,  25.,  25.],\n",
    "[ 75.,  25.,  75.,  75.,  75.]],\n",
    "[[ 25.,  25.,  25.,  25., 100.],\n",
    "[ 75.,  75.,  75.,  75.,  75.],\n",
    "[ 25.,  75.,   0.,  75.,  75.]]]\n",
    "```"
   ]
  },
  {
   "cell_type": "code",
   "execution_count": 117,
   "metadata": {},
   "outputs": [
    {
     "name": "stdout",
     "output_type": "stream",
     "text": [
      "[[[1.34575188 1.26608668 1.95320114 1.89786922 1.94694698]\n",
      "  [1.75025068 1.49434714 1.47629938 1.33048017 1.41176912]\n",
      "  [1.88017246 1.63231255 1.27634783 1.15778752 1.75280717]]\n",
      "\n",
      " [[1.91461337 1.3754744  1.19665839 1.42493056 1.50021816]\n",
      "  [1.17046312 1.71724797 1.65837814 1.92868795 1.73420252]\n",
      "  [1.92249092 1.70633985 1.87643428 1.85871945 1.50844353]]]\n",
      "\n",
      "[[[ 25.  25. 100.  75.  75.]\n",
      "  [ 75.  25.  25.  25.  25.]\n",
      "  [ 75.  75.  25.   0.  75.]]\n",
      "\n",
      " [[ 75.  25.  25.  25.  25.]\n",
      "  [ 25.  75.  75.  75.  75.]\n",
      "  [ 75.  75.  75.  75.  25.]]]\n"
     ]
    }
   ],
   "source": [
    "# your code here\n",
    "print(d)\n",
    "print(\"\")\n",
    "print(f)"
   ]
  },
  {
   "cell_type": "markdown",
   "metadata": {},
   "source": [
    "#### 18. Bonus question: instead of using numbers (i.e. 0, 25, 50, 75, and 100), use string values  (\"A\", \"B\", \"C\", \"D\", and \"E\") to label the array elements. For the example above, the expected result is:\n",
    "\n",
    "```python\n",
    "[[[ 'D',  'D',  'D',  'B',  'D'],\n",
    "[ 'D',  'D',  'B',  'B',  'B'],\n",
    "[ 'D',  'B',  'D',  'D',  'D']],\n",
    "[[ 'B',  'B',  'B',  'B',  'E'],\n",
    "[ 'D',  'D',  'D',  'D',  'D'],\n",
    "[ 'B',  'D',   'A',  'D', 'D']]]\n",
    "```\n",
    "**Note**: you don't have to use Numpy in this question."
   ]
  },
  {
   "cell_type": "code",
   "execution_count": 131,
   "metadata": {},
   "outputs": [
    {
     "name": "stdout",
     "output_type": "stream",
     "text": [
      "[[[ 25.  25. 100.  75.  75.]\n",
      "  [ 75.  25.  25.  25.  25.]\n",
      "  [ 75.  75.  25.   0.  75.]]\n",
      "\n",
      " [[ 75.  25.  25.  25.  25.]\n",
      "  [ 25.  75.  75.  75.  75.]\n",
      "  [ 75.  75.  75.  75.  25.]]]\n",
      "\n",
      "[[['B' 'B' 'E' 'D' 'D']\n",
      "  ['D' 'B' 'B' 'B' 'B']\n",
      "  ['D' 'D' 'B' 'A' 'D']]\n",
      "\n",
      " [['D' 'B' 'B' 'B' 'B']\n",
      "  ['B' 'D' 'D' 'D' 'D']\n",
      "  ['D' 'D' 'D' 'D' 'B']]]\n"
     ]
    }
   ],
   "source": [
    "shape = f.shape\n",
    "g = f.astype(str)\n",
    "\n",
    "for x in range(shape[0]):\n",
    "    for y in range(shape[1]):\n",
    "        for z in range(shape[2]):\n",
    "            if f[x, y, z] == 0:\n",
    "                g[x, y, z] = str('A')\n",
    "            elif f[x, y, z] == 25:\n",
    "                g[x, y, z] = str('B')\n",
    "            elif f[x, y, z] == 50:\n",
    "                g[x, y, z] = str('C')\n",
    "            elif f[x, y, z] == 75:\n",
    "                g[x, y, z] = str('D')\n",
    "            elif f[x, y, z] == 100:\n",
    "                g[x, y, z] = str('E')\n",
    "\n",
    "                \n",
    "print(f)\n",
    "print(\"\")\n",
    "print(g)\n"
   ]
  },
  {
   "cell_type": "code",
   "execution_count": null,
   "metadata": {},
   "outputs": [],
   "source": []
  }
 ],
 "metadata": {
  "kernelspec": {
   "display_name": "Python 3",
   "language": "python",
   "name": "python3"
  },
  "language_info": {
   "codemirror_mode": {
    "name": "ipython",
    "version": 3
   },
   "file_extension": ".py",
   "mimetype": "text/x-python",
   "name": "python",
   "nbconvert_exporter": "python",
   "pygments_lexer": "ipython3",
   "version": "3.7.4"
  }
 },
 "nbformat": 4,
 "nbformat_minor": 2
}
