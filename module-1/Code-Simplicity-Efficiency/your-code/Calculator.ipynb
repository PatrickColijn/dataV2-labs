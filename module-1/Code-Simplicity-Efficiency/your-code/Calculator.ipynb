{
 "cells": [
  {
   "cell_type": "markdown",
   "metadata": {},
   "source": [
    "# Calculator"
   ]
  },
  {
   "cell_type": "code",
   "execution_count": 81,
   "metadata": {},
   "outputs": [],
   "source": [
    "def start_calculator():\n",
    "    numbers ={\n",
    "        \"zero\": 0,\n",
    "        \"one\" : 1,\n",
    "        \"two\" : 2,\n",
    "        \"three\" : 3,\n",
    "        \"four\" : 4,\n",
    "        \"five\" : 5\n",
    "           }\n",
    "    \n",
    "    print('Welcome to this calculator!')\n",
    "    print('It can add and subtract whole numbers from zero to five')\n",
    "    \n",
    "    first_number = input('Please choose your first number (zero to five): ')\n",
    "    if first_number in numbers:\n",
    "        first_number = numbers[first_number]\n",
    "    else:\n",
    "        print(\"I am not able to answer this question. Check your input.\")\n",
    "        \n",
    "    plus_minus = input('What do you want to do? plus or minus: ')\n",
    "    if plus_minus.lower().startswith(\"p\"):\n",
    "        plus_minus = \"plus\" \n",
    "    elif plus_minus.lower().startswith(\"m\"):\n",
    "        plus_minus = \"minus\"\n",
    "    else:\n",
    "        print(\"I am not able to answer this question. Check your input.\")\n",
    "    \n",
    "    second_number = input('Please choose your second number (zero to five): ')\n",
    "    if second_number in numbers:\n",
    "        second_number = numbers[second_number]\n",
    "    else:\n",
    "        print(\"I am not able to answer this question. Check your input.\")\n",
    "        \n",
    "    outcome = pm(first_number, plus_minus, second_number)\n",
    "    return outcome\n",
    "        \n",
    "def pm(first_number, plus_minus, second_number):\n",
    "    if plus_minus == \"plus\":\n",
    "        return (first_number + second_number)\n",
    "    if plus_minus == \"minus\":\n",
    "        return (first_number - second_number)\n"
   ]
  },
  {
   "cell_type": "code",
   "execution_count": 82,
   "metadata": {},
   "outputs": [
    {
     "name": "stdout",
     "output_type": "stream",
     "text": [
      "Welcome to this calculator!\n",
      "It can add and subtract whole numbers from zero to five\n",
      "Please choose your first number (zero to five): one\n",
      "What do you want to do? plus or minus: plus\n",
      "Please choose your second number (zero to five): one\n"
     ]
    },
    {
     "data": {
      "text/plain": [
       "2"
      ]
     },
     "execution_count": 82,
     "metadata": {},
     "output_type": "execute_result"
    }
   ],
   "source": [
    "start_calculator()"
   ]
  }
 ],
 "metadata": {
  "kernelspec": {
   "display_name": "Python 3",
   "language": "python",
   "name": "python3"
  },
  "language_info": {
   "codemirror_mode": {
    "name": "ipython",
    "version": 3
   },
   "file_extension": ".py",
   "mimetype": "text/x-python",
   "name": "python",
   "nbconvert_exporter": "python",
   "pygments_lexer": "ipython3",
   "version": "3.7.4"
  }
 },
 "nbformat": 4,
 "nbformat_minor": 2
}
