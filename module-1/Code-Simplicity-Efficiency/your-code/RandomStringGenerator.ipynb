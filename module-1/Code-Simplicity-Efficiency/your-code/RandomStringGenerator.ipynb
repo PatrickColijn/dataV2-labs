{
 "cells": [
  {
   "cell_type": "markdown",
   "metadata": {},
   "source": [
    "# Random String Generator"
   ]
  },
  {
   "cell_type": "code",
   "execution_count": 12,
   "metadata": {},
   "outputs": [
    {
     "name": "stdout",
     "output_type": "stream",
     "text": [
      "Enter minimum string length: 10\n",
      "Enter maximum string length: 19\n",
      "How many random strings to generate?2\n"
     ]
    },
    {
     "data": {
      "text/plain": [
       "['fmw4drwso5co0y6e6', 'yzvcnsta3qnb2reqy']"
      ]
     },
     "execution_count": 12,
     "metadata": {},
     "output_type": "execute_result"
    }
   ],
   "source": [
    "import random\n",
    "import string\n",
    "import sys \n",
    "\n",
    "characters = (string.ascii_lowercase + string.digits)\n",
    "\n",
    "min_length = int(input('Enter minimum string length: '))\n",
    "max_length = int(input('Enter maximum string length: '))\n",
    "number_strings = int(input('How many random strings to generate?'))\n",
    "\n",
    "def BatchStringGenerator(min_length, max_length, number_strings, characters = characters):\n",
    "    list_of_strings = []\n",
    "    for i in range(number_strings):\n",
    "        string = None\n",
    "        if min_length < max_length:\n",
    "            string = random.choice(range(min_length, max_length))\n",
    "        elif min_length == max_length:\n",
    "            string = min_length\n",
    "        else:\n",
    "            sys.exit('Incorrect min and max string lengths. Try again.')\n",
    "        list_of_strings.append(RandomStringGenerator(string, characters))\n",
    "    return list_of_strings\n",
    "\n",
    "def RandomStringGenerator(length, characters):\n",
    "    number_char = 0\n",
    "    new_string = ''\n",
    "    while number_char < length:\n",
    "        new_string += random.choice(characters)\n",
    "        number_char += 1\n",
    "    return new_string\n",
    "\n",
    "BatchStringGenerator(min_length, max_length, number_strings)"
   ]
  },
  {
   "cell_type": "code",
   "execution_count": null,
   "metadata": {},
   "outputs": [],
   "source": []
  }
 ],
 "metadata": {
  "kernelspec": {
   "display_name": "Python 3",
   "language": "python",
   "name": "python3"
  },
  "language_info": {
   "codemirror_mode": {
    "name": "ipython",
    "version": 3
   },
   "file_extension": ".py",
   "mimetype": "text/x-python",
   "name": "python",
   "nbconvert_exporter": "python",
   "pygments_lexer": "ipython3",
   "version": "3.7.4"
  }
 },
 "nbformat": 4,
 "nbformat_minor": 2
}
