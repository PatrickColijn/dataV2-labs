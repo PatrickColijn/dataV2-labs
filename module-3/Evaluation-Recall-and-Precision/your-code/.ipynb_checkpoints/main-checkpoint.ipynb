{
 "cells": [
  {
   "cell_type": "markdown",
   "metadata": {},
   "source": [
    "# Evaluation: Precision & Recall\n",
    "## Using the evaluation metrics we have learned, we are going to compare how well some different types of classifiers perform on different evaluation metrics\n",
    "### We are going to use a dataset of written numbers which we can import from sklearn. Run the code below to do so. \n"
   ]
  },
  {
   "cell_type": "code",
   "execution_count": 1,
   "metadata": {},
   "outputs": [],
   "source": [
    "import numpy as np\n",
    "from sklearn.datasets import fetch_openml\n",
    "\n",
    "mnist = fetch_openml('mnist_784')\n",
    "X, y = mnist['data'], mnist['target']"
   ]
  },
  {
   "cell_type": "markdown",
   "metadata": {},
   "source": [
    "### Now take a look at the shapes of the X and y matricies "
   ]
  },
  {
   "cell_type": "code",
   "execution_count": 2,
   "metadata": {},
   "outputs": [
    {
     "name": "stdout",
     "output_type": "stream",
     "text": [
      "(70000, 784)\n",
      "(70000,)\n",
      "(70000, 784)\n",
      "(70000,)\n"
     ]
    }
   ],
   "source": [
    "for element in (X, y):\n",
    "    print(element.shape)"
   ]
  },
  {
   "cell_type": "markdown",
   "metadata": {},
   "source": [
    "### Now, let's pick one entry and see what number is written. Use indexing to pick the 36000th digit"
   ]
  },
  {
   "cell_type": "code",
   "execution_count": 3,
   "metadata": {},
   "outputs": [
    {
     "name": "stdout",
     "output_type": "stream",
     "text": [
      "X:  [  0.   0.   0.   0.   0.   0.   0.   0.   0.   0.   0.   0.   0.   0.\n",
      "   0.   0.   0.   0.   0.   0.   0.   0.   0.   0.   0.   0.   0.   0.\n",
      "   0.   0.   0.   0.   0.   0.   0.   0.   0.   0.   0.   0.   0.   0.\n",
      "   0.   0.   0.   0.   0.   0.   0.   0.   0.   0.   0.   0.   0.   0.\n",
      "   0.   0.   0.   0.   0.   0.   0.   0.   0.   0.   0.   0.   0.   0.\n",
      "   0.   0.   0.   0.   0.   0.   0.   0.   0.   0.   0.   0.   0.   0.\n",
      "   0.   0.   0.   0.   0.   0.   0.   0.   0.   0.   0.   0.   0.   0.\n",
      "   0.   0.   0.   0.   0.   0.   0.   0.   0.   0.   0.   0.   0.   0.\n",
      "   0.   0.   0.   0.   0.   0.   0.   0.   0.   0.   0.   0.   0.   0.\n",
      "   0.   0.   0.  16.  29. 154. 254. 243. 135.  25.   0.   0.   0.   0.\n",
      "   0.   0.   0.   0.   0.   0.   0.   0.   0.   0.   0.   0.   0.   0.\n",
      "   0.  19.  57. 166. 253. 253. 253. 254. 235.  38.  51.   0.   0.   0.\n",
      "   0.   0.   0.   0.   0.   0.   0.   0.   0.   0.   0.   0.   0.   0.\n",
      "   0. 173. 253. 254. 253. 187. 168. 169.  93.  41.  48.   0.   0.   0.\n",
      "   0.   0.   0.   0.   0.   0.   0.   0.   0.   0.   0.   0.   0.   0.\n",
      "  76. 223. 253. 242. 116.   6.   0.   0.   0.  98.  78.   0.   0.   0.\n",
      "   0.   0.   0.   0.   0.   0.   0.   0.   0.   0.   0.   0.  26.  92.\n",
      " 217. 254. 229. 102.   0.   0.   0.   0.   7.  19.   0.   0.   0.   0.\n",
      "   0.   0.   0.   0.   0.   0.   0.   0.   0.   0.   0.   0. 150. 254.\n",
      " 253. 196.   9.   0.   0.   0.   0.   0.  19. 163. 120.   0.   0.   0.\n",
      "   0.   0.   0.   0.   0.   0.   0.   0.   0.   0.   0. 154. 223. 254.\n",
      " 171.  37.   0.   0.   0.   0.   0.   0.  45. 216. 165.   0.   0.   0.\n",
      "   0.   0.   0.   0.   0.   0.   0.   0.   0.   0.  51. 247. 253. 229.\n",
      "   9.   0.   0.   0.   0.   0.   0.   0. 157. 253.  90.   0.   0.   0.\n",
      "   0.   0.   0.   0.   0.   0.   0.   0.  13. 105. 254. 245. 176.   0.\n",
      "   0.   0.   0.   0.   0.   0.   0. 105. 248. 150.   0.   0.   0.   0.\n",
      "   0.   0.   0.   0.   0.   0.   0.   0.  89. 254. 241. 169.  13.   0.\n",
      "   0.   0.   0.   0.   0.   0.  51. 254. 197.  76.   0.   0.   0.   0.\n",
      "   0.   0.   0.   0.   0.   0.   0.  29. 235. 254. 184.  25.   0.   0.\n",
      "   0.   0.   0.   0.   0.  29. 235. 254. 134.   0.   0.   0.   0.   0.\n",
      "   0.   0.   0.   0.   0.   0.   0.  98. 241. 242.  98.   0.   0.   0.\n",
      "   0.   0.   0.   0.  26. 123. 241. 242.  98.   0.   0.   0.   0.   0.\n",
      "   0.   0.   0.   0.   0.   0.  83. 230. 254. 114.   0.   0.   0.   0.\n",
      "   0.   0.   0.  13. 157. 254. 204. 114.   0.   0.   0.   0.   0.   0.\n",
      "   0.   0.   0.   0.   0.  19. 188. 253. 152.  38.   0.   0.   0.   0.\n",
      "   0.   0.  26. 170. 226. 209.  97.  38.   0.   0.   0.   0.   0.   0.\n",
      "   0.   0.   0.   0.   0. 129. 253. 165.  16.   0.   0.   0.   0.   0.\n",
      "   0.  67. 223. 254. 209.  13.   0.   0.   0.   0.   0.   0.   0.   0.\n",
      "   0.   0.   0.   0.   0. 180. 228.  52.   3.   0.   0.   0.   0.   0.\n",
      " 102. 235. 253. 128.  22.   0.   0.   0.   0.   0.   0.   0.   0.   0.\n",
      "   0.   0.   0.   0.   0.  92. 254. 120.   0.   0.   0.   0.  26. 205.\n",
      " 254. 245. 176.   0.   0.   0.   0.   0.   0.   0.   0.   0.   0.   0.\n",
      "   0.   0.   0.   0.   0. 117. 253. 225. 120.  57. 132. 169. 244. 254.\n",
      " 215.  81.   0.   0.   0.   0.   0.   0.   0.   0.   0.   0.   0.   0.\n",
      "   0.   0.   0.   0.   0.   7. 188. 253. 253. 254. 253. 253. 215. 156.\n",
      "  19.   0.   0.   0.   0.   0.   0.   0.   0.   0.   0.   0.   0.   0.\n",
      "   0.   0.   0.   0.   0.   0.  95. 229. 253. 255. 177.  52.  16.   0.\n",
      "   0.   0.   0.   0.   0.   0.   0.   0.   0.   0.   0.   0.   0.   0.\n",
      "   0.   0.   0.   0.   0.   0.   0.   0.   0.   0.   0.   0.   0.   0.\n",
      "   0.   0.   0.   0.   0.   0.   0.   0.   0.   0.   0.   0.   0.   0.\n",
      "   0.   0.   0.   0.   0.   0.   0.   0.   0.   0.   0.   0.   0.   0.\n",
      "   0.   0.   0.   0.   0.   0.   0.   0.   0.   0.   0.   0.   0.   0.\n",
      "   0.   0.   0.   0.   0.   0.   0.   0.   0.   0.   0.   0.   0.   0.\n",
      "   0.   0.   0.   0.   0.   0.   0.   0.   0.   0.   0.   0.   0.   0.\n",
      "   0.   0.   0.   0.   0.   0.   0.   0.   0.   0.   0.   0.   0.   0.\n",
      "   0.   0.   0.   0.   0.   0.   0.   0.   0.   0.   0.   0.   0.   0.]\n",
      "\n",
      "Y:  0\n",
      "X:  [  0.   0.   0.   0.   0.   0.   0.   0.   0.   0.   0.   0.   0.   0.\n",
      "   0.   0.   0.   0.   0.   0.   0.   0.   0.   0.   0.   0.   0.   0.\n",
      "   0.   0.   0.   0.   0.   0.   0.   0.   0.   0.   0.   0.   0.   0.\n",
      "   0.   0.   0.   0.   0.   0.   0.   0.   0.   0.   0.   0.   0.   0.\n",
      "   0.   0.   0.   0.   0.   0.   0.   0.   0.   0.   0.   0.   0.   0.\n",
      "   0.   0.   0.   0.   0.   0.   0.   0.   0.   0.   0.   0.   0.   0.\n",
      "   0.   0.   0.   0.   0.   0.   0.   0.   0.   0.   0.   0.   0.   0.\n",
      "   0.   0.   0.   0.   0.   0.   0.   0.   0.   0.   0.   0.   0.   0.\n",
      "   0.   0.   0.   0.   0.   0.   0.   0.   0.   0.   0.   0.   0.   0.\n",
      "   0.   0.   0.  16.  29. 154. 254. 243. 135.  25.   0.   0.   0.   0.\n",
      "   0.   0.   0.   0.   0.   0.   0.   0.   0.   0.   0.   0.   0.   0.\n",
      "   0.  19.  57. 166. 253. 253. 253. 254. 235.  38.  51.   0.   0.   0.\n",
      "   0.   0.   0.   0.   0.   0.   0.   0.   0.   0.   0.   0.   0.   0.\n",
      "   0. 173. 253. 254. 253. 187. 168. 169.  93.  41.  48.   0.   0.   0.\n",
      "   0.   0.   0.   0.   0.   0.   0.   0.   0.   0.   0.   0.   0.   0.\n",
      "  76. 223. 253. 242. 116.   6.   0.   0.   0.  98.  78.   0.   0.   0.\n",
      "   0.   0.   0.   0.   0.   0.   0.   0.   0.   0.   0.   0.  26.  92.\n",
      " 217. 254. 229. 102.   0.   0.   0.   0.   7.  19.   0.   0.   0.   0.\n",
      "   0.   0.   0.   0.   0.   0.   0.   0.   0.   0.   0.   0. 150. 254.\n",
      " 253. 196.   9.   0.   0.   0.   0.   0.  19. 163. 120.   0.   0.   0.\n",
      "   0.   0.   0.   0.   0.   0.   0.   0.   0.   0.   0. 154. 223. 254.\n",
      " 171.  37.   0.   0.   0.   0.   0.   0.  45. 216. 165.   0.   0.   0.\n",
      "   0.   0.   0.   0.   0.   0.   0.   0.   0.   0.  51. 247. 253. 229.\n",
      "   9.   0.   0.   0.   0.   0.   0.   0. 157. 253.  90.   0.   0.   0.\n",
      "   0.   0.   0.   0.   0.   0.   0.   0.  13. 105. 254. 245. 176.   0.\n",
      "   0.   0.   0.   0.   0.   0.   0. 105. 248. 150.   0.   0.   0.   0.\n",
      "   0.   0.   0.   0.   0.   0.   0.   0.  89. 254. 241. 169.  13.   0.\n",
      "   0.   0.   0.   0.   0.   0.  51. 254. 197.  76.   0.   0.   0.   0.\n",
      "   0.   0.   0.   0.   0.   0.   0.  29. 235. 254. 184.  25.   0.   0.\n",
      "   0.   0.   0.   0.   0.  29. 235. 254. 134.   0.   0.   0.   0.   0.\n",
      "   0.   0.   0.   0.   0.   0.   0.  98. 241. 242.  98.   0.   0.   0.\n",
      "   0.   0.   0.   0.  26. 123. 241. 242.  98.   0.   0.   0.   0.   0.\n",
      "   0.   0.   0.   0.   0.   0.  83. 230. 254. 114.   0.   0.   0.   0.\n",
      "   0.   0.   0.  13. 157. 254. 204. 114.   0.   0.   0.   0.   0.   0.\n",
      "   0.   0.   0.   0.   0.  19. 188. 253. 152.  38.   0.   0.   0.   0.\n",
      "   0.   0.  26. 170. 226. 209.  97.  38.   0.   0.   0.   0.   0.   0.\n",
      "   0.   0.   0.   0.   0. 129. 253. 165.  16.   0.   0.   0.   0.   0.\n",
      "   0.  67. 223. 254. 209.  13.   0.   0.   0.   0.   0.   0.   0.   0.\n",
      "   0.   0.   0.   0.   0. 180. 228.  52.   3.   0.   0.   0.   0.   0.\n",
      " 102. 235. 253. 128.  22.   0.   0.   0.   0.   0.   0.   0.   0.   0.\n",
      "   0.   0.   0.   0.   0.  92. 254. 120.   0.   0.   0.   0.  26. 205.\n",
      " 254. 245. 176.   0.   0.   0.   0.   0.   0.   0.   0.   0.   0.   0.\n",
      "   0.   0.   0.   0.   0. 117. 253. 225. 120.  57. 132. 169. 244. 254.\n",
      " 215.  81.   0.   0.   0.   0.   0.   0.   0.   0.   0.   0.   0.   0.\n",
      "   0.   0.   0.   0.   0.   7. 188. 253. 253. 254. 253. 253. 215. 156.\n",
      "  19.   0.   0.   0.   0.   0.   0.   0.   0.   0.   0.   0.   0.   0.\n",
      "   0.   0.   0.   0.   0.   0.  95. 229. 253. 255. 177.  52.  16.   0.\n",
      "   0.   0.   0.   0.   0.   0.   0.   0.   0.   0.   0.   0.   0.   0.\n",
      "   0.   0.   0.   0.   0.   0.   0.   0.   0.   0.   0.   0.   0.   0.\n",
      "   0.   0.   0.   0.   0.   0.   0.   0.   0.   0.   0.   0.   0.   0.\n",
      "   0.   0.   0.   0.   0.   0.   0.   0.   0.   0.   0.   0.   0.   0.\n",
      "   0.   0.   0.   0.   0.   0.   0.   0.   0.   0.   0.   0.   0.   0.\n",
      "   0.   0.   0.   0.   0.   0.   0.   0.   0.   0.   0.   0.   0.   0.\n",
      "   0.   0.   0.   0.   0.   0.   0.   0.   0.   0.   0.   0.   0.   0.\n",
      "   0.   0.   0.   0.   0.   0.   0.   0.   0.   0.   0.   0.   0.   0.\n",
      "   0.   0.   0.   0.   0.   0.   0.   0.   0.   0.   0.   0.   0.   0.]\n",
      "\n",
      "Y:  0\n"
     ]
    }
   ],
   "source": [
    "print(\"X: \", X[35999])\n",
    "print(\"\")\n",
    "print(\"Y: \",y[35999])"
   ]
  },
  {
   "cell_type": "markdown",
   "metadata": {},
   "source": [
    "### You can use the .reshape(28,28) function and plt.imshow() function with the parameters cmap = matplotlib.cm.binary, interpolation=\"nearest\" to make a plot of the number. Be sure to import matplotlib!"
   ]
  },
  {
   "cell_type": "code",
   "execution_count": 4,
   "metadata": {},
   "outputs": [
    {
     "data": {
      "text/plain": [
       "<matplotlib.image.AxesImage at 0x1380ecfd0>"
      ]
     },
     "execution_count": 4,
     "metadata": {},
     "output_type": "execute_result"
    },
    {
     "data": {
      "text/plain": [
       "<matplotlib.image.AxesImage at 0x1380ecfd0>"
      ]
     },
     "execution_count": 4,
     "metadata": {},
     "output_type": "execute_result"
    },
    {
     "data": {
      "image/png": "[encoded data removed]",
      "text/plain": [
       "<Figure size 432x288 with 1 Axes>"
      ]
     },
     "metadata": {
      "needs_background": "light"
     },
     "output_type": "display_data"
    },
    {
     "data": {
      "image/png": "[encoded data removed]",
      "text/plain": [
       "<Figure size 432x288 with 1 Axes>"
      ]
     },
     "metadata": {
      "needs_background": "light"
     },
     "output_type": "display_data"
    }
   ],
   "source": [
    "# Import libraries \n",
    "import matplotlib.pyplot as plt\n",
    "%matplotlib inline \n",
    "\n",
    "\n",
    "plt.imshow(X[35999].reshape(28,28), cmap = plt.cm.binary, interpolation=\"nearest\")"
   ]
  },
  {
   "cell_type": "markdown",
   "metadata": {},
   "source": [
    "### Use indexing to see if what the plot shows matches with the outcome of the 36000th index"
   ]
  },
  {
   "cell_type": "code",
   "execution_count": 5,
   "metadata": {},
   "outputs": [
    {
     "name": "stdout",
     "output_type": "stream",
     "text": [
      "Y:  0\n",
      "Y:  0\n"
     ]
    }
   ],
   "source": [
    "print(\"Y: \",y[35999])"
   ]
  },
  {
   "cell_type": "markdown",
   "metadata": {},
   "source": [
    "### Now lets break into a test train split to run a classification. Instead of using sklearn, use indexing to select the first 60000 entries for the training, and the rest for training."
   ]
  },
  {
   "cell_type": "code",
   "execution_count": 6,
   "metadata": {},
   "outputs": [],
   "source": [
    "X_train = X[:6000]\n",
    "y_train = y[:6000]\n",
    "\n",
    "X_test = X[6000:]\n",
    "y_test = y[6000:]"
   ]
  },
  {
   "cell_type": "markdown",
   "metadata": {},
   "source": [
    "### We are going to make a two-class classifier, so lets restrict to just one number, for example 5s. Do this by defining a new y training and y testing sets for just the number 5"
   ]
  },
  {
   "cell_type": "code",
   "execution_count": 7,
   "metadata": {},
   "outputs": [],
   "source": [
    "y_train_5 = np.where(y_train == '5',1,0)\n",
    "y_test_5 = np.where(y_test == '5',1,0)"
   ]
  },
  {
   "cell_type": "code",
   "execution_count": null,
   "metadata": {},
   "outputs": [],
   "source": [
    "xcount= y_train_5\n",
    "ycount= y_test_5\n",
    "\n",
    "unique, counts = np.unique(xcount, return_counts=True)\n",
    "print(np.asarray((unique, counts)).T)\n",
    "\n",
    "print(\"\")\n",
    "\n",
    "unique, counts = np.unique(ycount, return_counts=True)\n",
    "print(np.asarray((unique, counts)).T)"
   ]
  },
  {
   "cell_type": "markdown",
   "metadata": {},
   "source": [
    "### Lets train a logistic regression to predict if a number is a 5 or not (remember to use the 'just 5s' y training set!)"
   ]
  },
  {
   "cell_type": "code",
   "execution_count": null,
   "metadata": {},
   "outputs": [],
   "source": [
    "# Import libraries \n",
    "from sklearn.linear_model import LogisticRegression\n",
    "from sklearn.metrics import confusion_matrix\n",
    "from sklearn.metrics import classification_report\n",
    "\n",
    "# Initialize model\n",
    "logreg = LogisticRegression()\n",
    "\n",
    "# Fit/train the data \n",
    "logreg.fit(X_train, y_train_5)\n",
    "\n",
    "# Predict values \n",
    "y_pred = logreg.predict(X_test)\n",
    "print('Accuracy of logistic regression classifier on test set: {:.2f}'.format(logreg.score(X_test, y_test_5)))\n",
    "print(\"\")\n",
    "\n",
    "# Create confusion matrix to assess model\n",
    "confusion_matrix = confusion_matrix(y_test_5, y_pred)\n",
    "print(confusion_matrix)\n",
    "\n",
    "# Compute the precision of the model\n",
    "print(classification_report(y_test_5, y_pred))"
   ]
  },
  {
   "cell_type": "markdown",
   "metadata": {},
   "source": [
    "### Does the classifier predict correctly the 36000th digit we picked before?"
   ]
  },
  {
   "cell_type": "code",
   "execution_count": null,
   "metadata": {},
   "outputs": [],
   "source": [
    "y_pred[36000]"
   ]
  },
  {
   "cell_type": "markdown",
   "metadata": {},
   "source": [
    "### To make some comparisons, we are going to make a very dumb classifier, that never predicts 5s. Build the classifier with the code below, and call it using: never_5_clf = Never5Classifier()"
   ]
  },
  {
   "cell_type": "code",
   "execution_count": null,
   "metadata": {},
   "outputs": [],
   "source": [
    "from sklearn.base import BaseEstimator\n",
    "\n",
    "class Never5Classifier(BaseEstimator):\n",
    "    def fit(self, X, y=None):\n",
    "        pass\n",
    "    def predict(self, X):\n",
    "        return np.zeros((len(X), 1), dtype=bool)\n",
    "\n",
    "never_5_clf = Never5Classifier()"
   ]
  },
  {
   "cell_type": "markdown",
   "metadata": {},
   "source": [
    "### Now lets fit and predict on the testing set using our never 5 Classifier"
   ]
  },
  {
   "cell_type": "code",
   "execution_count": null,
   "metadata": {},
   "outputs": [],
   "source": [
    "# Fit/train the data \n",
    "never_5_clf.fit(X_train)\n",
    "\n",
    "# Predict values \n",
    "y_pred_never_5 = never_5_clf.predict(X_test)\n",
    "\n",
    "# Create confusion matrix to assess model\n",
    "confusion_matrix_never_5 = confusion_matrix(y_test_5, \n",
    "                                    y_pred_never_5)\n",
    "print(confusion_matrix_never_5)\n",
    "print(\"\")\n",
    "\n",
    "# Compute the precision of the model\n",
    "print(classification_report_never_5(y_test_5, y_pred_never_5))"
   ]
  },
  {
   "cell_type": "code",
   "execution_count": null,
   "metadata": {},
   "outputs": [],
   "source": [
    "print(type(y_pred_never_5))\n",
    "print(y_pred_never_5)"
   ]
  },
  {
   "cell_type": "markdown",
   "metadata": {},
   "source": [
    "### Let's compare this to the Logistic Regression. Examine the confusion matrix, precision, recall, and f1_scores for each. What is the probability cutoff you are using to decide the classes?"
   ]
  },
  {
   "cell_type": "code",
   "execution_count": null,
   "metadata": {},
   "outputs": [],
   "source": []
  },
  {
   "cell_type": "markdown",
   "metadata": {},
   "source": [
    "### What are the differences you see? Without knowing what each model is, what can these metrics tell you about how well each works?"
   ]
  },
  {
   "cell_type": "code",
   "execution_count": null,
   "metadata": {},
   "outputs": [],
   "source": []
  },
  {
   "cell_type": "markdown",
   "metadata": {},
   "source": [
    "### Now let's examine the roc_curve for each. Use the roc_curve method from sklearn.metrics to help plot the curve for each"
   ]
  },
  {
   "cell_type": "code",
   "execution_count": null,
   "metadata": {},
   "outputs": [],
   "source": []
  },
  {
   "cell_type": "markdown",
   "metadata": {},
   "source": [
    "### Now find the roc_auc_score for each. "
   ]
  },
  {
   "cell_type": "code",
   "execution_count": null,
   "metadata": {},
   "outputs": [],
   "source": []
  },
  {
   "cell_type": "markdown",
   "metadata": {},
   "source": [
    "### What does this metric tell you? Which classifier works better with this metric in mind?"
   ]
  },
  {
   "cell_type": "code",
   "execution_count": null,
   "metadata": {},
   "outputs": [],
   "source": []
  }
 ],
 "metadata": {
  "kernelspec": {
   "display_name": "Python 3",
   "language": "python",
   "name": "python3"
  },
  "language_info": {
   "codemirror_mode": {
    "name": "ipython",
    "version": 3
   },
   "file_extension": ".py",
   "mimetype": "text/x-python",
   "name": "python",
   "nbconvert_exporter": "python",
   "pygments_lexer": "ipython3",
   "version": "3.7.4"
  }
 },
 "nbformat": 4,
 "nbformat_minor": 2
}
